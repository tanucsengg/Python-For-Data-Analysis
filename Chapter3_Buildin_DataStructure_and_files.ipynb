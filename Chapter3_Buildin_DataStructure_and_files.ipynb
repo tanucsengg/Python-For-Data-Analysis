{
  "nbformat": 4,
  "nbformat_minor": 0,
  "metadata": {
    "colab": {
      "name": "Chapter3_Buildin DataStructure and files.ipynb",
      "provenance": [],
      "collapsed_sections": [],
      "authorship_tag": "ABX9TyM2iJ6keVIb9NipCuVufbzs",
      "include_colab_link": true
    },
    "kernelspec": {
      "name": "python3",
      "display_name": "Python 3"
    },
    "language_info": {
      "name": "python"
    }
  },
  "cells": [
    {
      "cell_type": "markdown",
      "metadata": {
        "id": "view-in-github",
        "colab_type": "text"
      },
      "source": [
        "<a href=\"https://colab.research.google.com/github/tanucsengg/Python-For-Data-Analysis/blob/main/Chapter3_Buildin_DataStructure_and_files.ipynb\" target=\"_parent\"><img src=\"https://colab.research.google.com/assets/colab-badge.svg\" alt=\"Open In Colab\"/></a>"
      ]
    },
    {
      "cell_type": "markdown",
      "source": [
        "Data Structure and Sequences\n",
        "Tuple"
      ],
      "metadata": {
        "id": "HYwZLjFlb30V"
      }
    },
    {
      "cell_type": "code",
      "source": [
        "# Tuple is Fixed Length Immutable Python Object \n",
        "tup = (1,2,3)\n",
        "tup"
      ],
      "metadata": {
        "colab": {
          "base_uri": "https://localhost:8080/"
        },
        "id": "WU98LPlHb8Au",
        "outputId": "17d217c3-7313-4ed8-dfa9-78cf9b212ad4"
      },
      "execution_count": null,
      "outputs": [
        {
          "output_type": "execute_result",
          "data": {
            "text/plain": [
              "(1, 2, 3)"
            ]
          },
          "metadata": {},
          "execution_count": 1
        }
      ]
    },
    {
      "cell_type": "code",
      "source": [
        "nested_tup = (1,2,3),(3,4,5)\n",
        "nested_tup"
      ],
      "metadata": {
        "colab": {
          "base_uri": "https://localhost:8080/"
        },
        "id": "lqoAmi0tb8R9",
        "outputId": "b4068d4a-bd0a-4374-9f7d-46588b940ca6"
      },
      "execution_count": null,
      "outputs": [
        {
          "output_type": "execute_result",
          "data": {
            "text/plain": [
              "((1, 2, 3), (3, 4, 5))"
            ]
          },
          "metadata": {},
          "execution_count": 2
        }
      ]
    },
    {
      "cell_type": "code",
      "source": [
        "#convert and data structure to the tuple\n",
        "tup_new = tuple([1,2,3])\n",
        "tup_new"
      ],
      "metadata": {
        "colab": {
          "base_uri": "https://localhost:8080/"
        },
        "id": "EsZoPPCzb8Ul",
        "outputId": "c6742139-cc14-4c6d-805c-9f47579b4745"
      },
      "execution_count": null,
      "outputs": [
        {
          "output_type": "execute_result",
          "data": {
            "text/plain": [
              "(1, 2, 3)"
            ]
          },
          "metadata": {},
          "execution_count": 3
        }
      ]
    },
    {
      "cell_type": "code",
      "source": [
        "tup = tuple('string')\n",
        "tup\n"
      ],
      "metadata": {
        "colab": {
          "base_uri": "https://localhost:8080/"
        },
        "id": "KkCqUCqKb8Wn",
        "outputId": "1c537978-ddbd-4cce-eb6c-d18631eec799"
      },
      "execution_count": null,
      "outputs": [
        {
          "output_type": "execute_result",
          "data": {
            "text/plain": [
              "('s', 't', 'r', 'i', 'n', 'g')"
            ]
          },
          "metadata": {},
          "execution_count": 5
        }
      ]
    },
    {
      "cell_type": "code",
      "source": [
        "# can access the particular position using position index\n",
        "tup[1]  # second position index is 1 and element is t"
      ],
      "metadata": {
        "colab": {
          "base_uri": "https://localhost:8080/",
          "height": 35
        },
        "id": "yQvCV19YdIAh",
        "outputId": "b417525e-c0ee-4cbd-8982-101b4865b784"
      },
      "execution_count": null,
      "outputs": [
        {
          "output_type": "execute_result",
          "data": {
            "application/vnd.google.colaboratory.intrinsic+json": {
              "type": "string"
            },
            "text/plain": [
              "'t'"
            ]
          },
          "metadata": {},
          "execution_count": 6
        }
      ]
    },
    {
      "cell_type": "code",
      "source": [
        "# once the tuple is created its not possible to modify which object is cfraeted at which slot\n",
        "tup = tuple('foo',[1,2,3],False) # Since this tuple can expect one argument and here I am giving three values here"
      ],
      "metadata": {
        "colab": {
          "base_uri": "https://localhost:8080/",
          "height": 183
        },
        "id": "2dLhqemPb8ZT",
        "outputId": "fdb736fc-4518-4641-82bb-d65cae10dc30"
      },
      "execution_count": null,
      "outputs": [
        {
          "output_type": "error",
          "ename": "TypeError",
          "evalue": "ignored",
          "traceback": [
            "\u001b[0;31m---------------------------------------------------------------------------\u001b[0m",
            "\u001b[0;31mTypeError\u001b[0m                                 Traceback (most recent call last)",
            "\u001b[0;32m<ipython-input-7-7acc15327037>\u001b[0m in \u001b[0;36m<module>\u001b[0;34m()\u001b[0m\n\u001b[1;32m      1\u001b[0m \u001b[0;31m# once the tuple is created its not possible to modify which object is cfraeted at which slot\u001b[0m\u001b[0;34m\u001b[0m\u001b[0;34m\u001b[0m\u001b[0;34m\u001b[0m\u001b[0m\n\u001b[0;32m----> 2\u001b[0;31m \u001b[0mtup\u001b[0m \u001b[0;34m=\u001b[0m \u001b[0mtuple\u001b[0m\u001b[0;34m(\u001b[0m\u001b[0;34m'foo'\u001b[0m\u001b[0;34m,\u001b[0m\u001b[0;34m[\u001b[0m\u001b[0;36m1\u001b[0m\u001b[0;34m,\u001b[0m\u001b[0;36m2\u001b[0m\u001b[0;34m,\u001b[0m\u001b[0;36m3\u001b[0m\u001b[0;34m]\u001b[0m\u001b[0;34m,\u001b[0m\u001b[0;32mFalse\u001b[0m\u001b[0;34m)\u001b[0m\u001b[0;34m\u001b[0m\u001b[0;34m\u001b[0m\u001b[0m\n\u001b[0m",
            "\u001b[0;31mTypeError\u001b[0m: tuple expected at most 1 arguments, got 3"
          ]
        }
      ]
    },
    {
      "cell_type": "code",
      "source": [
        "tup = tuple(['foo',[1,2,3],False]) # here one list is passes with three values"
      ],
      "metadata": {
        "id": "i3EVRLxNb8bx"
      },
      "execution_count": null,
      "outputs": []
    },
    {
      "cell_type": "code",
      "source": [
        "tup[2] = False # cann't modify the objects of the tuple once it is created"
      ],
      "metadata": {
        "colab": {
          "base_uri": "https://localhost:8080/",
          "height": 166
        },
        "id": "ibzjFcD0b8d8",
        "outputId": "97e6ec75-17e2-47f0-9498-1a3c221b35ca"
      },
      "execution_count": null,
      "outputs": [
        {
          "output_type": "error",
          "ename": "TypeError",
          "evalue": "ignored",
          "traceback": [
            "\u001b[0;31m---------------------------------------------------------------------------\u001b[0m",
            "\u001b[0;31mTypeError\u001b[0m                                 Traceback (most recent call last)",
            "\u001b[0;32m<ipython-input-9-f0e712ebb621>\u001b[0m in \u001b[0;36m<module>\u001b[0;34m()\u001b[0m\n\u001b[0;32m----> 1\u001b[0;31m \u001b[0mtup\u001b[0m\u001b[0;34m[\u001b[0m\u001b[0;36m2\u001b[0m\u001b[0;34m]\u001b[0m \u001b[0;34m=\u001b[0m \u001b[0;32mFalse\u001b[0m \u001b[0;31m# cann'\u001b[0m\u001b[0;34m\u001b[0m\u001b[0;34m\u001b[0m\u001b[0m\n\u001b[0m",
            "\u001b[0;31mTypeError\u001b[0m: 'tuple' object does not support item assignment"
          ]
        }
      ]
    },
    {
      "cell_type": "code",
      "source": [
        "tup[1].append(3) # the value 3 is added to the second element which is [1,2,3]"
      ],
      "metadata": {
        "id": "vurCS-Sxb8hO"
      },
      "execution_count": null,
      "outputs": []
    },
    {
      "cell_type": "code",
      "source": [
        "tup"
      ],
      "metadata": {
        "colab": {
          "base_uri": "https://localhost:8080/"
        },
        "id": "9Jc4ismafFI2",
        "outputId": "ba44e71e-178d-4e4c-8baa-534dff55ea6c"
      },
      "execution_count": null,
      "outputs": [
        {
          "output_type": "execute_result",
          "data": {
            "text/plain": [
              "('foo', [1, 2, 3, 3], False)"
            ]
          },
          "metadata": {},
          "execution_count": 11
        }
      ]
    },
    {
      "cell_type": "code",
      "source": [
        "# Concatenate the multiple tuple\n",
        "(4,None,'foo')+(6,0)+('bar',)"
      ],
      "metadata": {
        "colab": {
          "base_uri": "https://localhost:8080/"
        },
        "id": "sDxcLVLGfFLP",
        "outputId": "2e493272-17f8-4d0a-e388-4c4d924055c7"
      },
      "execution_count": null,
      "outputs": [
        {
          "output_type": "execute_result",
          "data": {
            "text/plain": [
              "(4, None, 'foo', 6, 0, 'bar')"
            ]
          },
          "metadata": {},
          "execution_count": 12
        }
      ]
    },
    {
      "cell_type": "code",
      "source": [
        "# Multiplying the list together \n",
        "('foo','bar')*4"
      ],
      "metadata": {
        "colab": {
          "base_uri": "https://localhost:8080/"
        },
        "id": "xf4L9KKYfFNo",
        "outputId": "29a5e0d4-9df0-4cd0-fca6-da81e982d033"
      },
      "execution_count": null,
      "outputs": [
        {
          "output_type": "execute_result",
          "data": {
            "text/plain": [
              "('foo', 'bar', 'foo', 'bar', 'foo', 'bar', 'foo', 'bar')"
            ]
          },
          "metadata": {},
          "execution_count": 13
        }
      ]
    },
    {
      "cell_type": "code",
      "source": [
        "tup = (4,5,6)\n",
        "a,b,c = tup\n",
        "b"
      ],
      "metadata": {
        "colab": {
          "base_uri": "https://localhost:8080/"
        },
        "id": "f-q3Y1gQfFQh",
        "outputId": "2d4a8651-f2c3-4bc8-d741-afbef36f199f"
      },
      "execution_count": null,
      "outputs": [
        {
          "output_type": "execute_result",
          "data": {
            "text/plain": [
              "5"
            ]
          },
          "metadata": {},
          "execution_count": 14
        }
      ]
    },
    {
      "cell_type": "code",
      "source": [
        "tupp = 4,5,(6,7)\n",
        "a,b,(c,d) = tupp\n",
        "d"
      ],
      "metadata": {
        "colab": {
          "base_uri": "https://localhost:8080/"
        },
        "id": "FB_IXRN0fFTK",
        "outputId": "7615dea2-cb95-4cc1-fd55-9c7a141dc678"
      },
      "execution_count": null,
      "outputs": [
        {
          "output_type": "execute_result",
          "data": {
            "text/plain": [
              "7"
            ]
          },
          "metadata": {},
          "execution_count": 18
        }
      ]
    },
    {
      "cell_type": "code",
      "source": [
        "a,b = 1,2 # a is assigned the vale as 1 and b is assigned the value as 2"
      ],
      "metadata": {
        "id": "BxjQGmy9lJPf"
      },
      "execution_count": null,
      "outputs": []
    },
    {
      "cell_type": "code",
      "source": [
        "a"
      ],
      "metadata": {
        "colab": {
          "base_uri": "https://localhost:8080/"
        },
        "id": "4xwnBob-2n2t",
        "outputId": "c8822a61-7e57-4594-99c7-111a8be27aaa"
      },
      "execution_count": null,
      "outputs": [
        {
          "output_type": "execute_result",
          "data": {
            "text/plain": [
              "1"
            ]
          },
          "metadata": {},
          "execution_count": 23
        }
      ]
    },
    {
      "cell_type": "code",
      "source": [
        "b, a = a , b #  a =a,b here a=1 and b= 2 now the last value as 2 will be updated to a so now a is 2 "
      ],
      "metadata": {
        "id": "D1JG9coglJR3"
      },
      "execution_count": null,
      "outputs": []
    },
    {
      "cell_type": "code",
      "source": [
        "a"
      ],
      "metadata": {
        "colab": {
          "base_uri": "https://localhost:8080/"
        },
        "id": "2kiE_yiSlJUi",
        "outputId": "a3bcd2f4-55a8-432a-d069-b7cf6e4b4187"
      },
      "execution_count": null,
      "outputs": [
        {
          "output_type": "execute_result",
          "data": {
            "text/plain": [
              "2"
            ]
          },
          "metadata": {},
          "execution_count": 21
        }
      ]
    },
    {
      "cell_type": "code",
      "source": [
        "# Variable iterating over the sequence of tuples\n",
        "seq = [(1, 2, 3), (4, 5, 6), (7, 8, 9)]"
      ],
      "metadata": {
        "id": "hz8eDuS-lJXG"
      },
      "execution_count": null,
      "outputs": []
    },
    {
      "cell_type": "code",
      "source": [
        "for a,b,c in seq :\n",
        "  print('a = {0} , b = {1} , c = {2}'. format(a,b,c))"
      ],
      "metadata": {
        "colab": {
          "base_uri": "https://localhost:8080/"
        },
        "id": "lt0rCbI7lJao",
        "outputId": "ee241df6-eaaf-40d4-8cb0-35d6ab564e1b"
      },
      "execution_count": null,
      "outputs": [
        {
          "output_type": "stream",
          "name": "stdout",
          "text": [
            "a = 1 , b = 2 , c = 3\n",
            "a = 4 , b = 5 , c = 6\n",
            "a = 7 , b = 8 , c = 9\n"
          ]
        }
      ]
    },
    {
      "cell_type": "code",
      "source": [
        "values = 1,2,3,4,5\n",
        "a,b,*rest = values\n"
      ],
      "metadata": {
        "id": "M-NI3C3mfFWS"
      },
      "execution_count": null,
      "outputs": []
    },
    {
      "cell_type": "code",
      "source": [
        "a, b"
      ],
      "metadata": {
        "colab": {
          "base_uri": "https://localhost:8080/"
        },
        "id": "4IEosIBr8mLP",
        "outputId": "61160b63-8b7a-49cf-e93a-181de1eff408"
      },
      "execution_count": null,
      "outputs": [
        {
          "output_type": "execute_result",
          "data": {
            "text/plain": [
              "(1, 2)"
            ]
          },
          "metadata": {},
          "execution_count": 31
        }
      ]
    },
    {
      "cell_type": "code",
      "source": [
        "rest "
      ],
      "metadata": {
        "colab": {
          "base_uri": "https://localhost:8080/"
        },
        "id": "5HHN-kvl8mVH",
        "outputId": "120f9697-da1f-45ca-c637-130b792e57bc"
      },
      "execution_count": null,
      "outputs": [
        {
          "output_type": "execute_result",
          "data": {
            "text/plain": [
              "[3, 4, 5]"
            ]
          },
          "metadata": {},
          "execution_count": 32
        }
      ]
    },
    {
      "cell_type": "code",
      "source": [
        "a,b,*_ = values"
      ],
      "metadata": {
        "id": "UQrMgUoC8mYh"
      },
      "execution_count": null,
      "outputs": []
    },
    {
      "cell_type": "code",
      "source": [
        "a,b"
      ],
      "metadata": {
        "colab": {
          "base_uri": "https://localhost:8080/"
        },
        "id": "IfAK07ED82CW",
        "outputId": "d9858a70-2491-4e83-ca6c-53634e496adc"
      },
      "execution_count": null,
      "outputs": [
        {
          "output_type": "execute_result",
          "data": {
            "text/plain": [
              "(1, 2)"
            ]
          },
          "metadata": {},
          "execution_count": 34
        }
      ]
    },
    {
      "cell_type": "code",
      "source": [
        "_"
      ],
      "metadata": {
        "colab": {
          "base_uri": "https://localhost:8080/"
        },
        "id": "XPyiORxZ82FG",
        "outputId": "3c6356a7-0113-4103-e668-f6e6c99f9ca1"
      },
      "execution_count": null,
      "outputs": [
        {
          "output_type": "execute_result",
          "data": {
            "text/plain": [
              "(1, 2)"
            ]
          },
          "metadata": {},
          "execution_count": 35
        }
      ]
    },
    {
      "cell_type": "code",
      "source": [
        "a = (1, 5, 5, 5, 3, 4, 2)"
      ],
      "metadata": {
        "id": "RbtsytSD82Hr"
      },
      "execution_count": null,
      "outputs": []
    },
    {
      "cell_type": "code",
      "source": [
        "# Tuple methods  \n",
        "a.count(5)  # this method will count the occurance of 5 in the tuple"
      ],
      "metadata": {
        "colab": {
          "base_uri": "https://localhost:8080/"
        },
        "id": "WOfHIUql82KX",
        "outputId": "20ac4807-459a-417a-966c-fbce84b34759"
      },
      "execution_count": null,
      "outputs": [
        {
          "output_type": "execute_result",
          "data": {
            "text/plain": [
              "3"
            ]
          },
          "metadata": {},
          "execution_count": 39
        }
      ]
    },
    {
      "cell_type": "code",
      "source": [
        "a_list = [2, 3, 7, None]\n"
      ],
      "metadata": {
        "id": "b1Km96fl82M9"
      },
      "execution_count": null,
      "outputs": []
    },
    {
      "cell_type": "code",
      "source": [
        "tup = ('foo', 'bar', 'baz')"
      ],
      "metadata": {
        "id": "a5FrELHt82QY"
      },
      "execution_count": null,
      "outputs": []
    },
    {
      "cell_type": "code",
      "source": [
        "b_list = list(tup)\n",
        "type(b_list)"
      ],
      "metadata": {
        "colab": {
          "base_uri": "https://localhost:8080/"
        },
        "id": "QMZDhfQx9hOC",
        "outputId": "9a0f4c25-f242-4e43-ce4d-b8289857dadb"
      },
      "execution_count": null,
      "outputs": [
        {
          "output_type": "execute_result",
          "data": {
            "text/plain": [
              "list"
            ]
          },
          "metadata": {},
          "execution_count": 4
        }
      ]
    },
    {
      "cell_type": "code",
      "source": [
        "b_list"
      ],
      "metadata": {
        "colab": {
          "base_uri": "https://localhost:8080/"
        },
        "id": "QRPhhv9p9hQp",
        "outputId": "17a6a422-db87-4899-ecec-00190c32af4b"
      },
      "execution_count": null,
      "outputs": [
        {
          "output_type": "execute_result",
          "data": {
            "text/plain": [
              "['foo', 'bar', 'baz']"
            ]
          },
          "metadata": {},
          "execution_count": 43
        }
      ]
    },
    {
      "cell_type": "code",
      "source": [
        "b_list[1] = 'pink'"
      ],
      "metadata": {
        "id": "jfrYa3_99hTD"
      },
      "execution_count": null,
      "outputs": []
    },
    {
      "cell_type": "code",
      "source": [
        "b_list"
      ],
      "metadata": {
        "colab": {
          "base_uri": "https://localhost:8080/"
        },
        "id": "p_FFx2Vx9hVx",
        "outputId": "231b092f-8d22-4511-c73c-7147b5b6a25b"
      },
      "execution_count": null,
      "outputs": [
        {
          "output_type": "execute_result",
          "data": {
            "text/plain": [
              "['foo', 'pink', 'baz']"
            ]
          },
          "metadata": {},
          "execution_count": 45
        }
      ]
    },
    {
      "cell_type": "code",
      "source": [
        "gen = range(10)"
      ],
      "metadata": {
        "id": "fcrwP1YU9hYN"
      },
      "execution_count": null,
      "outputs": []
    },
    {
      "cell_type": "code",
      "source": [
        "gen"
      ],
      "metadata": {
        "colab": {
          "base_uri": "https://localhost:8080/"
        },
        "id": "RkNjnaTI9haz",
        "outputId": "a6dd2607-9307-496f-93e8-9e535362143d"
      },
      "execution_count": null,
      "outputs": [
        {
          "output_type": "execute_result",
          "data": {
            "text/plain": [
              "range(0, 10)"
            ]
          },
          "metadata": {},
          "execution_count": 47
        }
      ]
    },
    {
      "cell_type": "code",
      "source": [
        "list(gen)"
      ],
      "metadata": {
        "colab": {
          "base_uri": "https://localhost:8080/"
        },
        "id": "CAJT2fF39heN",
        "outputId": "a0350554-6aff-4f6d-a020-01c7b293002e"
      },
      "execution_count": null,
      "outputs": [
        {
          "output_type": "execute_result",
          "data": {
            "text/plain": [
              "[0, 1, 2, 3, 4, 5, 6, 7, 8, 9]"
            ]
          },
          "metadata": {},
          "execution_count": 48
        }
      ]
    },
    {
      "cell_type": "markdown",
      "source": [
        "Addding and Removing elements "
      ],
      "metadata": {
        "id": "6J3zK0FnBHgM"
      }
    },
    {
      "cell_type": "code",
      "source": [
        "b_list.append('dwarf')"
      ],
      "metadata": {
        "id": "SX7G2l35BBum"
      },
      "execution_count": null,
      "outputs": []
    },
    {
      "cell_type": "code",
      "source": [
        "b_list"
      ],
      "metadata": {
        "colab": {
          "base_uri": "https://localhost:8080/"
        },
        "id": "jKO3Yr0sBBxX",
        "outputId": "369a2d5e-90f5-44bf-a193-43f1b11dd870"
      },
      "execution_count": null,
      "outputs": [
        {
          "output_type": "execute_result",
          "data": {
            "text/plain": [
              "['foo', 'pink', 'baz', 'dwarf']"
            ]
          },
          "metadata": {},
          "execution_count": 50
        }
      ]
    },
    {
      "cell_type": "code",
      "source": [
        "b_list. insert(1,'red') # add the red to the position 1 in the list"
      ],
      "metadata": {
        "id": "1W4ZCmslBB0O"
      },
      "execution_count": null,
      "outputs": []
    },
    {
      "cell_type": "code",
      "source": [
        "b_list.pop(2)"
      ],
      "metadata": {
        "colab": {
          "base_uri": "https://localhost:8080/",
          "height": 35
        },
        "id": "MB0ID0_dBB21",
        "outputId": "bad3829f-9838-49d3-d601-6b10a586631b"
      },
      "execution_count": null,
      "outputs": [
        {
          "output_type": "execute_result",
          "data": {
            "application/vnd.google.colaboratory.intrinsic+json": {
              "type": "string"
            },
            "text/plain": [
              "'pink'"
            ]
          },
          "metadata": {},
          "execution_count": 53
        }
      ]
    },
    {
      "cell_type": "code",
      "source": [
        "b_list.append('king') # add the value king to the list b_list"
      ],
      "metadata": {
        "id": "fWAWe78VBB5v"
      },
      "execution_count": null,
      "outputs": []
    },
    {
      "cell_type": "code",
      "source": [
        "b_list"
      ],
      "metadata": {
        "colab": {
          "base_uri": "https://localhost:8080/"
        },
        "id": "ZuQNm31QBB9E",
        "outputId": "082175f4-0359-4325-f8b6-55847a8a0867"
      },
      "execution_count": null,
      "outputs": [
        {
          "output_type": "execute_result",
          "data": {
            "text/plain": [
              "['red', 'baz', 'dwarf', 'foo', 'king']"
            ]
          },
          "metadata": {},
          "execution_count": 59
        }
      ]
    },
    {
      "cell_type": "code",
      "source": [
        "b_list.remove('king')  # remove the value king from the b_list"
      ],
      "metadata": {
        "id": "LH5aLqXn9huz"
      },
      "execution_count": null,
      "outputs": []
    },
    {
      "cell_type": "code",
      "source": [
        "b_list"
      ],
      "metadata": {
        "colab": {
          "base_uri": "https://localhost:8080/"
        },
        "id": "Z3mfI73pDiVn",
        "outputId": "12e66dd9-4a24-48b0-8ddd-b8b1fa2566b9"
      },
      "execution_count": null,
      "outputs": [
        {
          "output_type": "execute_result",
          "data": {
            "text/plain": [
              "['foo', 'red', 'pink', 'baz', 'dwarf']"
            ]
          },
          "metadata": {},
          "execution_count": 10
        }
      ]
    },
    {
      "cell_type": "code",
      "source": [
        "'red' in b_list # 'red' Element exists in the list returns True element present and False Element not present"
      ],
      "metadata": {
        "colab": {
          "base_uri": "https://localhost:8080/"
        },
        "id": "pU5v5sCDDiYM",
        "outputId": "671b179b-64f5-4661-ce56-30c45e084dca"
      },
      "execution_count": null,
      "outputs": [
        {
          "output_type": "execute_result",
          "data": {
            "text/plain": [
              "True"
            ]
          },
          "metadata": {},
          "execution_count": 62
        }
      ]
    },
    {
      "cell_type": "code",
      "source": [
        "'black' not in b_list # If black is not present in the b_list which is true thus result is true "
      ],
      "metadata": {
        "id": "gUcJQQ3wDiax",
        "colab": {
          "base_uri": "https://localhost:8080/"
        },
        "outputId": "406bbb98-1d32-466b-e85d-804d03754e44"
      },
      "execution_count": null,
      "outputs": [
        {
          "output_type": "execute_result",
          "data": {
            "text/plain": [
              "True"
            ]
          },
          "metadata": {},
          "execution_count": 11
        }
      ]
    },
    {
      "cell_type": "markdown",
      "source": [
        "Concatenating and Combining List"
      ],
      "metadata": {
        "id": "pfBQ73xzGgok"
      }
    },
    {
      "cell_type": "code",
      "source": [
        "[4,None,'foo']+[7,8,(2,3)]"
      ],
      "metadata": {
        "id": "AO5fmimQDidH",
        "colab": {
          "base_uri": "https://localhost:8080/"
        },
        "outputId": "ce908894-dcd8-4cb8-a97c-9c4bc6f22ecf"
      },
      "execution_count": null,
      "outputs": [
        {
          "output_type": "execute_result",
          "data": {
            "text/plain": [
              "[4, None, 'foo', 7, 8, (2, 3)]"
            ]
          },
          "metadata": {},
          "execution_count": 16
        }
      ]
    },
    {
      "cell_type": "code",
      "source": [
        "x = [4,None,'foo']  # extend the lkist to the existing list \n",
        "x.extend([7,8,(2,3)])\n",
        "x"
      ],
      "metadata": {
        "id": "AFC2UB7NDifx",
        "colab": {
          "base_uri": "https://localhost:8080/"
        },
        "outputId": "0bad55a8-10dd-4837-b3f8-b97acb0a6592"
      },
      "execution_count": null,
      "outputs": [
        {
          "output_type": "execute_result",
          "data": {
            "text/plain": [
              "[4, None, 'foo', 7, 8, (2, 3)]"
            ]
          },
          "metadata": {},
          "execution_count": 17
        }
      ]
    },
    {
      "cell_type": "code",
      "source": [
        "%%timeit\n",
        "everything = []\n",
        "list_of_lists = ['a','b','c']\n",
        "for chunk in list_of_lists:\n",
        "  everything.extend(chunk)\n",
        "everything"
      ],
      "metadata": {
        "id": "hXzDOQCzDiiF",
        "colab": {
          "base_uri": "https://localhost:8080/"
        },
        "outputId": "a731ee70-790d-4748-d15e-a73904ad346f"
      },
      "execution_count": null,
      "outputs": [
        {
          "output_type": "stream",
          "name": "stdout",
          "text": [
            "The slowest run took 6.98 times longer than the fastest. This could mean that an intermediate result is being cached.\n",
            "1000000 loops, best of 5: 542 ns per loop\n"
          ]
        }
      ]
    },
    {
      "cell_type": "markdown",
      "source": [
        "Sorting"
      ],
      "metadata": {
        "id": "NAqcEQ0KKSkd"
      }
    },
    {
      "cell_type": "code",
      "source": [
        "a = [7,4,5,3,2,1] # Sort the list ion the ascending order \n",
        "a.sort()\n",
        "a"
      ],
      "metadata": {
        "id": "4GGoIJTJDinr",
        "colab": {
          "base_uri": "https://localhost:8080/"
        },
        "outputId": "6172d78a-3160-4489-e201-62dd3a4cecff"
      },
      "execution_count": null,
      "outputs": [
        {
          "output_type": "execute_result",
          "data": {
            "text/plain": [
              "[1, 2, 3, 4, 5, 7]"
            ]
          },
          "metadata": {},
          "execution_count": 31
        }
      ]
    },
    {
      "cell_type": "code",
      "source": [
        "b = ['saw','small','he','foxes','six']   # sorts the list with the length of the element like he is smallest with 2, saw is with 3 and so on \n",
        "b.sort(key = len)\n",
        "b"
      ],
      "metadata": {
        "colab": {
          "base_uri": "https://localhost:8080/"
        },
        "id": "4uXEZAxvKWEH",
        "outputId": "27f546bb-a556-4901-b154-65cf7e5fb62d"
      },
      "execution_count": null,
      "outputs": [
        {
          "output_type": "execute_result",
          "data": {
            "text/plain": [
              "['he', 'saw', 'six', 'small', 'foxes']"
            ]
          },
          "metadata": {},
          "execution_count": 32
        }
      ]
    },
    {
      "cell_type": "markdown",
      "source": [
        "Binary Search and Maintaining a Sorted List"
      ],
      "metadata": {
        "id": "wXlP6yxRLFYX"
      }
    },
    {
      "cell_type": "code",
      "source": [
        "import bisect  # bisect.bisect finds the location where an element should be inserted to keep it sorted\n",
        "c = [1,2,2,2,3,4,7]\n",
        "bisect.bisect(c,2)\n"
      ],
      "metadata": {
        "colab": {
          "base_uri": "https://localhost:8080/"
        },
        "id": "_qj-YZlrKWGv",
        "outputId": "4577b9cd-f1ef-41ea-cee0-6e60fa2a4301"
      },
      "execution_count": null,
      "outputs": [
        {
          "output_type": "execute_result",
          "data": {
            "text/plain": [
              "4"
            ]
          },
          "metadata": {},
          "execution_count": 38
        }
      ]
    },
    {
      "cell_type": "code",
      "source": [
        "bisect.bisect(c,5)"
      ],
      "metadata": {
        "colab": {
          "base_uri": "https://localhost:8080/"
        },
        "id": "IjWJS2c3NNuK",
        "outputId": "3a5ffff3-e91a-4cf8-ac4a-c04cb4a40ba4"
      },
      "execution_count": null,
      "outputs": [
        {
          "output_type": "execute_result",
          "data": {
            "text/plain": [
              "6"
            ]
          },
          "metadata": {},
          "execution_count": 39
        }
      ]
    },
    {
      "cell_type": "code",
      "source": [
        "bisect.bisect(c,6)"
      ],
      "metadata": {
        "colab": {
          "base_uri": "https://localhost:8080/"
        },
        "id": "omMoHSoRNO1r",
        "outputId": "eb49ece8-1882-4384-dbf4-0715035e1a1e"
      },
      "execution_count": null,
      "outputs": [
        {
          "output_type": "execute_result",
          "data": {
            "text/plain": [
              "6"
            ]
          },
          "metadata": {},
          "execution_count": 40
        }
      ]
    },
    {
      "cell_type": "code",
      "source": [
        "bisect.insort(c, 6) # here the element 6 is added to the location 6 and thus the list is sorted\n"
      ],
      "metadata": {
        "id": "s5Cpkj8MNiQb"
      },
      "execution_count": null,
      "outputs": []
    },
    {
      "cell_type": "code",
      "source": [
        "c"
      ],
      "metadata": {
        "colab": {
          "base_uri": "https://localhost:8080/"
        },
        "id": "VjMPaBMIKWJh",
        "outputId": "134bc595-9e70-4814-c0db-6b421d1f1462"
      },
      "execution_count": null,
      "outputs": [
        {
          "output_type": "execute_result",
          "data": {
            "text/plain": [
              "[1, 2, 2, 2, 3, 4, 6, 7]"
            ]
          },
          "metadata": {},
          "execution_count": 42
        }
      ]
    },
    {
      "cell_type": "markdown",
      "source": [
        "SLICING"
      ],
      "metadata": {
        "id": "SZko4zkGNvXq"
      }
    },
    {
      "cell_type": "code",
      "source": [
        "seq = [7, 2, 3, 7, 5, 6, 0, 1]"
      ],
      "metadata": {
        "id": "0PC9EHNHKWL4"
      },
      "execution_count": null,
      "outputs": []
    },
    {
      "cell_type": "code",
      "source": [
        "seq[1:5]  # slicing the element from position 1 to 4 , position 5 will not be included"
      ],
      "metadata": {
        "colab": {
          "base_uri": "https://localhost:8080/"
        },
        "id": "RipMS4WuKWO3",
        "outputId": "8c5e5d89-0f54-4cce-f3b9-8a41984a9ec9"
      },
      "execution_count": null,
      "outputs": [
        {
          "output_type": "execute_result",
          "data": {
            "text/plain": [
              "[2, 3, 7, 5]"
            ]
          },
          "metadata": {},
          "execution_count": 44
        }
      ]
    },
    {
      "cell_type": "code",
      "source": [
        "seq[3:7] # Slicing the element from the position 3 to 6, position 7 will not be included"
      ],
      "metadata": {
        "colab": {
          "base_uri": "https://localhost:8080/"
        },
        "id": "JoiIYcG6KWRK",
        "outputId": "9540aee6-395b-494c-9968-0d0eb6f772b4"
      },
      "execution_count": null,
      "outputs": [
        {
          "output_type": "execute_result",
          "data": {
            "text/plain": [
              "[7, 5, 6, 0]"
            ]
          },
          "metadata": {},
          "execution_count": 45
        }
      ]
    },
    {
      "cell_type": "code",
      "source": [
        "seq[3:4] = [6, 3]  # Add the 6,3 element to the position 3 to 4"
      ],
      "metadata": {
        "id": "o3U5hXy1KWT7"
      },
      "execution_count": null,
      "outputs": []
    },
    {
      "cell_type": "code",
      "source": [
        "seq"
      ],
      "metadata": {
        "colab": {
          "base_uri": "https://localhost:8080/"
        },
        "id": "WgRDdh5RKWXF",
        "outputId": "f6ba6952-3f76-4259-8d96-fbeb7a08879a"
      },
      "execution_count": null,
      "outputs": [
        {
          "output_type": "execute_result",
          "data": {
            "text/plain": [
              "[7, 2, 3, 6, 3, 5, 6, 0, 1]"
            ]
          },
          "metadata": {},
          "execution_count": 51
        }
      ]
    },
    {
      "cell_type": "code",
      "source": [
        "seq[:5] # start position is 0 and the end position is 4"
      ],
      "metadata": {
        "colab": {
          "base_uri": "https://localhost:8080/"
        },
        "id": "x7IqjmPCKWaT",
        "outputId": "43c12c42-3723-4472-d196-14d3ba5aea47"
      },
      "execution_count": null,
      "outputs": [
        {
          "output_type": "execute_result",
          "data": {
            "text/plain": [
              "[7, 2, 3, 6, 3]"
            ]
          },
          "metadata": {},
          "execution_count": 48
        }
      ]
    },
    {
      "cell_type": "code",
      "source": [
        "seq[3:]   # start position is 3 and last is the ending position"
      ],
      "metadata": {
        "colab": {
          "base_uri": "https://localhost:8080/"
        },
        "id": "Z8dXH6zpPtQM",
        "outputId": "34fe1215-8689-4436-d871-87cd62b8382c"
      },
      "execution_count": null,
      "outputs": [
        {
          "output_type": "execute_result",
          "data": {
            "text/plain": [
              "[6, 3, 5, 6, 0, 1]"
            ]
          },
          "metadata": {},
          "execution_count": 49
        }
      ]
    },
    {
      "cell_type": "code",
      "source": [
        "seq[-4:]   # start position is 4 position from the end as -4 is there and last position is the last position of the list"
      ],
      "metadata": {
        "colab": {
          "base_uri": "https://localhost:8080/"
        },
        "id": "0q00rGN_PtTP",
        "outputId": "186ac3ea-2afb-441b-bcdd-1b39ff28526b"
      },
      "execution_count": null,
      "outputs": [
        {
          "output_type": "execute_result",
          "data": {
            "text/plain": [
              "[5, 6, 0, 1]"
            ]
          },
          "metadata": {},
          "execution_count": 50
        }
      ]
    },
    {
      "cell_type": "code",
      "source": [
        "seq[::2]"
      ],
      "metadata": {
        "colab": {
          "base_uri": "https://localhost:8080/"
        },
        "id": "Zarg1IRgPtYt",
        "outputId": "506115ac-87e3-4ffa-cb96-87b4f2d83ca0"
      },
      "execution_count": null,
      "outputs": [
        {
          "output_type": "execute_result",
          "data": {
            "text/plain": [
              "[7, 3, 3, 6, 1]"
            ]
          },
          "metadata": {},
          "execution_count": 52
        }
      ]
    },
    {
      "cell_type": "code",
      "source": [
        "seq[::-1]"
      ],
      "metadata": {
        "colab": {
          "base_uri": "https://localhost:8080/"
        },
        "id": "n1OWagQJ1BVI",
        "outputId": "41cfcdda-ae84-4693-d162-d04546730fb3"
      },
      "execution_count": null,
      "outputs": [
        {
          "output_type": "execute_result",
          "data": {
            "text/plain": [
              "[1, 0, 6, 5, 3, 6, 3, 2, 7]"
            ]
          },
          "metadata": {},
          "execution_count": 53
        }
      ]
    },
    {
      "cell_type": "code",
      "source": [
        "some_list = ['foo', 'bar', 'baz']\n"
      ],
      "metadata": {
        "id": "SkcNyOpj1BX0"
      },
      "execution_count": null,
      "outputs": []
    },
    {
      "cell_type": "code",
      "source": [
        "mapping = {}\n",
        "for i, v in enumerate(some_list):\n",
        "  mapping[v] = i\n",
        "mapping"
      ],
      "metadata": {
        "colab": {
          "base_uri": "https://localhost:8080/"
        },
        "id": "15X-9AMZ1BaV",
        "outputId": "87180a88-c1cf-4ddf-805a-e9f5cbce26a9"
      },
      "execution_count": null,
      "outputs": [
        {
          "output_type": "execute_result",
          "data": {
            "text/plain": [
              "{'bar': 1, 'baz': 2, 'foo': 0}"
            ]
          },
          "metadata": {},
          "execution_count": 56
        }
      ]
    },
    {
      "cell_type": "markdown",
      "source": [
        "Sorted"
      ],
      "metadata": {
        "id": "gk1s1nkE2jFE"
      }
    },
    {
      "cell_type": "code",
      "source": [
        "sorted([7,1,2,6,0,3,2])"
      ],
      "metadata": {
        "colab": {
          "base_uri": "https://localhost:8080/"
        },
        "id": "kitklEhN1Bdz",
        "outputId": "abc13bec-064b-4b4e-da6d-945f5fbf62b6"
      },
      "execution_count": null,
      "outputs": [
        {
          "output_type": "execute_result",
          "data": {
            "text/plain": [
              "[0, 1, 2, 2, 3, 6, 7]"
            ]
          },
          "metadata": {},
          "execution_count": 57
        }
      ]
    },
    {
      "cell_type": "code",
      "source": [
        "sorted('house plot')"
      ],
      "metadata": {
        "colab": {
          "base_uri": "https://localhost:8080/"
        },
        "id": "If4HLIg4PtcQ",
        "outputId": "ea9905e0-65e3-47ab-ad70-f6390528f292"
      },
      "execution_count": null,
      "outputs": [
        {
          "output_type": "execute_result",
          "data": {
            "text/plain": [
              "[' ', 'e', 'h', 'l', 'o', 'o', 'p', 's', 't', 'u']"
            ]
          },
          "metadata": {},
          "execution_count": 58
        }
      ]
    },
    {
      "cell_type": "markdown",
      "source": [
        "Zip"
      ],
      "metadata": {
        "id": "cadOxwqD29LQ"
      }
    },
    {
      "cell_type": "code",
      "source": [
        "seq1 = ['foo', 'bar','baz']\n",
        "seq2 = ['one','two','three']"
      ],
      "metadata": {
        "id": "07i78YPIPtmG"
      },
      "execution_count": null,
      "outputs": []
    },
    {
      "cell_type": "code",
      "source": [
        "zipped = zip(seq1, seq2)\n",
        "list(zipped)"
      ],
      "metadata": {
        "colab": {
          "base_uri": "https://localhost:8080/"
        },
        "id": "iJaibY9y25EH",
        "outputId": "38aeadec-a419-4d35-8c12-1ae8e182c437"
      },
      "execution_count": null,
      "outputs": [
        {
          "output_type": "execute_result",
          "data": {
            "text/plain": [
              "[('foo', 'one'), ('bar', 'two'), ('baz', 'three')]"
            ]
          },
          "metadata": {},
          "execution_count": 63
        }
      ]
    },
    {
      "cell_type": "code",
      "source": [
        "seq3 = [False,True]\n",
        "list(zip(seq1,seq2,seq3))# Since the third list is of length 2 thus after 2 length it stopped"
      ],
      "metadata": {
        "colab": {
          "base_uri": "https://localhost:8080/"
        },
        "id": "l_JEJeRZ25Gt",
        "outputId": "874879d7-56e7-4a22-c409-3318d4fbdfb3"
      },
      "execution_count": null,
      "outputs": [
        {
          "output_type": "execute_result",
          "data": {
            "text/plain": [
              "[('foo', 'one', False), ('bar', 'two', True)]"
            ]
          },
          "metadata": {},
          "execution_count": 64
        }
      ]
    },
    {
      "cell_type": "code",
      "source": [
        "for i, (a, b) in enumerate(zip(seq1, seq2)):  # enumerate on the zipped \n",
        "  print('{0}: {1}, {2}'.format(i, a, b))\n"
      ],
      "metadata": {
        "colab": {
          "base_uri": "https://localhost:8080/"
        },
        "id": "HYNXcX1525Jo",
        "outputId": "81b4f999-b66e-4d70-a422-71849a072bd4"
      },
      "execution_count": null,
      "outputs": [
        {
          "output_type": "stream",
          "name": "stdout",
          "text": [
            "0: foo, one\n",
            "1: bar, two\n",
            "2: baz, three\n"
          ]
        }
      ]
    },
    {
      "cell_type": "code",
      "source": [
        "pitchers = [('Nolan', 'Ryan'), ('Roger', 'Clemens'), ('Schilling', 'Curt')]"
      ],
      "metadata": {
        "id": "l5Dl7tjF25MN"
      },
      "execution_count": null,
      "outputs": []
    },
    {
      "cell_type": "code",
      "source": [
        "first_names, last_names = zip(*pitchers)\n",
        "print(first_names)\n",
        "print(last_names)"
      ],
      "metadata": {
        "colab": {
          "base_uri": "https://localhost:8080/"
        },
        "id": "MoufWzTm25O-",
        "outputId": "15ced018-ae9d-4228-deb8-f5716fa5215d"
      },
      "execution_count": null,
      "outputs": [
        {
          "output_type": "stream",
          "name": "stdout",
          "text": [
            "('Nolan', 'Roger', 'Schilling')\n",
            "('Ryan', 'Clemens', 'Curt')\n"
          ]
        }
      ]
    },
    {
      "cell_type": "markdown",
      "source": [
        "Reversed the list"
      ],
      "metadata": {
        "id": "LofHYL9wStnr"
      }
    },
    {
      "cell_type": "code",
      "source": [
        "list(reversed(range(10)))"
      ],
      "metadata": {
        "colab": {
          "base_uri": "https://localhost:8080/"
        },
        "id": "kXFDXX3k25Sb",
        "outputId": "21e70638-a163-4c53-e587-b29c539e74c2"
      },
      "execution_count": null,
      "outputs": [
        {
          "output_type": "execute_result",
          "data": {
            "text/plain": [
              "[9, 8, 7, 6, 5, 4, 3, 2, 1, 0]"
            ]
          },
          "metadata": {},
          "execution_count": 70
        }
      ]
    },
    {
      "cell_type": "markdown",
      "source": [
        "Dictionary"
      ],
      "metadata": {
        "id": "bkBrgiAyTDnz"
      }
    },
    {
      "cell_type": "code",
      "source": [
        "empty_dict = {}    # dictionary holds the key value pair\n",
        "d1 = {'a' : 'some value', 'b' : [1, 2, 3, 4]}\n",
        "d1"
      ],
      "metadata": {
        "colab": {
          "base_uri": "https://localhost:8080/"
        },
        "id": "v-dZAuaB25cy",
        "outputId": "0d361393-debd-4907-8aa3-322fe882bad0"
      },
      "execution_count": 2,
      "outputs": [
        {
          "output_type": "execute_result",
          "data": {
            "text/plain": [
              "{'a': 'some value', 'b': [1, 2, 3, 4]}"
            ]
          },
          "metadata": {},
          "execution_count": 2
        }
      ]
    },
    {
      "cell_type": "code",
      "source": [
        "d1[7] = 'an integer'    # Adding the an integer value to key 7"
      ],
      "metadata": {
        "id": "Kb0d9AVqS6WQ"
      },
      "execution_count": 3,
      "outputs": []
    },
    {
      "cell_type": "code",
      "source": [
        "d1"
      ],
      "metadata": {
        "id": "OCSEYi73Ta0H",
        "colab": {
          "base_uri": "https://localhost:8080/"
        },
        "outputId": "36d2f7c0-85d0-4c7f-e144-978d86eb0970"
      },
      "execution_count": 4,
      "outputs": [
        {
          "output_type": "execute_result",
          "data": {
            "text/plain": [
              "{7: 'an integer', 'a': 'some value', 'b': [1, 2, 3, 4]}"
            ]
          },
          "metadata": {},
          "execution_count": 4
        }
      ]
    },
    {
      "cell_type": "code",
      "source": [
        "d1['b']"
      ],
      "metadata": {
        "id": "7GIo8a4aTa3B",
        "colab": {
          "base_uri": "https://localhost:8080/"
        },
        "outputId": "bc9b6cf5-6b6c-4c79-c996-adbcf978e86d"
      },
      "execution_count": 5,
      "outputs": [
        {
          "output_type": "execute_result",
          "data": {
            "text/plain": [
              "[1, 2, 3, 4]"
            ]
          },
          "metadata": {},
          "execution_count": 5
        }
      ]
    },
    {
      "cell_type": "code",
      "source": [
        "'b' in d1"
      ],
      "metadata": {
        "id": "TusVv898Ta6Z",
        "colab": {
          "base_uri": "https://localhost:8080/"
        },
        "outputId": "d1511f91-e49f-4758-87f2-fc5413dd73a5"
      },
      "execution_count": 7,
      "outputs": [
        {
          "output_type": "execute_result",
          "data": {
            "text/plain": [
              "True"
            ]
          },
          "metadata": {},
          "execution_count": 7
        }
      ]
    },
    {
      "cell_type": "code",
      "source": [
        "d1[4] = 'something to eat'"
      ],
      "metadata": {
        "id": "WD1FKyyOTa9r"
      },
      "execution_count": 8,
      "outputs": []
    },
    {
      "cell_type": "code",
      "source": [
        "d1"
      ],
      "metadata": {
        "id": "hWkP6tRwTbK6",
        "colab": {
          "base_uri": "https://localhost:8080/"
        },
        "outputId": "a2688fbf-46b8-4032-976a-72aac92559e2"
      },
      "execution_count": 9,
      "outputs": [
        {
          "output_type": "execute_result",
          "data": {
            "text/plain": [
              "{4: 'something to eat', 7: 'an integer', 'a': 'some value', 'b': [1, 2, 3, 4]}"
            ]
          },
          "metadata": {},
          "execution_count": 9
        }
      ]
    },
    {
      "cell_type": "code",
      "source": [
        "del d1[4]  # delete the key with value 4"
      ],
      "metadata": {
        "id": "IN33PeUwTbN3"
      },
      "execution_count": 10,
      "outputs": []
    },
    {
      "cell_type": "code",
      "source": [
        "d1"
      ],
      "metadata": {
        "id": "TsMN7LoYTbRc",
        "colab": {
          "base_uri": "https://localhost:8080/"
        },
        "outputId": "b43177f1-fcf0-4fb7-f742-7fb47a157ad2"
      },
      "execution_count": 11,
      "outputs": [
        {
          "output_type": "execute_result",
          "data": {
            "text/plain": [
              "{7: 'an integer', 'a': 'some value', 'b': [1, 2, 3, 4]}"
            ]
          },
          "metadata": {},
          "execution_count": 11
        }
      ]
    },
    {
      "cell_type": "code",
      "source": [
        "d1[2] = 'yummy'"
      ],
      "metadata": {
        "id": "gLIzTI62S6cP"
      },
      "execution_count": 12,
      "outputs": []
    },
    {
      "cell_type": "code",
      "source": [
        "rrt = d1.pop(2)   # take the element 2 value and place in rrt"
      ],
      "metadata": {
        "id": "yPI4PFL2S6fG"
      },
      "execution_count": 13,
      "outputs": []
    },
    {
      "cell_type": "code",
      "source": [
        "rrt"
      ],
      "metadata": {
        "id": "TLXVV_NoS6ho",
        "colab": {
          "base_uri": "https://localhost:8080/",
          "height": 35
        },
        "outputId": "6e9e6452-0744-44aa-f02c-f817a193fc0d"
      },
      "execution_count": 14,
      "outputs": [
        {
          "output_type": "execute_result",
          "data": {
            "application/vnd.google.colaboratory.intrinsic+json": {
              "type": "string"
            },
            "text/plain": [
              "'yummy'"
            ]
          },
          "metadata": {},
          "execution_count": 14
        }
      ]
    },
    {
      "cell_type": "code",
      "source": [
        "key_list = d1.keys()"
      ],
      "metadata": {
        "id": "LRnKUWYzS6kW"
      },
      "execution_count": 30,
      "outputs": []
    },
    {
      "cell_type": "code",
      "source": [
        "value_list = d1.values()\n"
      ],
      "metadata": {
        "id": "ELhMWhRhS6n4"
      },
      "execution_count": 31,
      "outputs": []
    },
    {
      "cell_type": "code",
      "source": [
        "# Update the value to the dictionary \n",
        "d1.update({'b' : 'foo', 'c' : 12})"
      ],
      "metadata": {
        "id": "iZHgpAkN91ds"
      },
      "execution_count": 26,
      "outputs": []
    },
    {
      "cell_type": "code",
      "source": [
        "d1"
      ],
      "metadata": {
        "colab": {
          "base_uri": "https://localhost:8080/"
        },
        "id": "1VdCvZFI91gn",
        "outputId": "0dd26a42-b6a8-467d-fc51-99d5dc854998"
      },
      "execution_count": 27,
      "outputs": [
        {
          "output_type": "execute_result",
          "data": {
            "text/plain": [
              "{7: 'an integer', 'a': 'some value', 'b': 'foo', 'c': 12}"
            ]
          },
          "metadata": {},
          "execution_count": 27
        }
      ]
    },
    {
      "cell_type": "markdown",
      "source": [
        "Creating dicts from sequences\n"
      ],
      "metadata": {
        "id": "XwFAMW_o-L4i"
      }
    },
    {
      "cell_type": "code",
      "source": [
        "# function creation fro the key values  \n",
        "mapping = {}\n",
        "for key, value in zip(key_list, value_list):\n",
        " mapping[key] = value"
      ],
      "metadata": {
        "id": "xBwzPANR91ja"
      },
      "execution_count": 32,
      "outputs": []
    },
    {
      "cell_type": "code",
      "source": [
        "mapping = dict(zip(range(5), reversed(range(5))))"
      ],
      "metadata": {
        "id": "4bgfRB7X91mV"
      },
      "execution_count": 33,
      "outputs": []
    },
    {
      "cell_type": "code",
      "source": [
        "mapping"
      ],
      "metadata": {
        "colab": {
          "base_uri": "https://localhost:8080/"
        },
        "id": "E23-Sewy91pE",
        "outputId": "2958c3eb-7229-4159-d1b1-b91651e9fee3"
      },
      "execution_count": 34,
      "outputs": [
        {
          "output_type": "execute_result",
          "data": {
            "text/plain": [
              "{0: 4, 1: 3, 2: 2, 3: 1, 4: 0}"
            ]
          },
          "metadata": {},
          "execution_count": 34
        }
      ]
    },
    {
      "cell_type": "code",
      "source": [
        "words = ['apple', 'bat', 'bar', 'atom', 'book']"
      ],
      "metadata": {
        "id": "CNwFKMJS91r-"
      },
      "execution_count": 35,
      "outputs": []
    },
    {
      "cell_type": "code",
      "source": [
        "by_letter = {}\n"
      ],
      "metadata": {
        "id": "l6i60XJ691vB"
      },
      "execution_count": 36,
      "outputs": []
    },
    {
      "cell_type": "code",
      "source": [
        "for word in words:\n",
        " letter = word[0]\n",
        " if letter not in by_letter:\n",
        "  by_letter[letter] = word\n",
        " else:\n",
        "  by_letter[letter].append(word)"
      ],
      "metadata": {
        "id": "D58_CNP_92DV"
      },
      "execution_count": 39,
      "outputs": []
    },
    {
      "cell_type": "code",
      "source": [
        "by_letter"
      ],
      "metadata": {
        "colab": {
          "base_uri": "https://localhost:8080/"
        },
        "id": "75zfPm2i92Gb",
        "outputId": "a0e862c6-eac7-4c39-9ade-40fdcc8ec10b"
      },
      "execution_count": 40,
      "outputs": [
        {
          "output_type": "execute_result",
          "data": {
            "text/plain": [
              "{'a': ['apple', 'atom', 'apple', 'atom'],\n",
              " 'b': ['bat', 'bar', 'book', 'bat', 'bar', 'book']}"
            ]
          },
          "metadata": {},
          "execution_count": 40
        }
      ]
    },
    {
      "cell_type": "code",
      "source": [
        "for word in words:\n",
        " letter = word[0]\n",
        " by_letter.setdefault(letter, []).append(word)\n"
      ],
      "metadata": {
        "id": "erQneGoY_gtb"
      },
      "execution_count": 41,
      "outputs": []
    },
    {
      "cell_type": "code",
      "source": [
        "from collections import defaultdict\n",
        "by_letter = defaultdict(list)\n",
        "for word in words:\n",
        " by_letter[word[0]].append(word)"
      ],
      "metadata": {
        "colab": {
          "base_uri": "https://localhost:8080/",
          "height": 201
        },
        "id": "ifWFfICx92J-",
        "outputId": "228090de-96bd-4b84-f43d-7f407872365c"
      },
      "execution_count": 44,
      "outputs": [
        {
          "output_type": "error",
          "ename": "AttributeError",
          "evalue": "ignored",
          "traceback": [
            "\u001b[0;31m---------------------------------------------------------------------------\u001b[0m",
            "\u001b[0;31mAttributeError\u001b[0m                            Traceback (most recent call last)",
            "\u001b[0;32m<ipython-input-44-20fa438d0c63>\u001b[0m in \u001b[0;36m<module>\u001b[0;34m()\u001b[0m\n\u001b[1;32m      2\u001b[0m \u001b[0mby_letter\u001b[0m \u001b[0;34m=\u001b[0m \u001b[0mdefaultdict\u001b[0m\u001b[0;34m(\u001b[0m\u001b[0mlist\u001b[0m\u001b[0;34m)\u001b[0m\u001b[0;34m\u001b[0m\u001b[0;34m\u001b[0m\u001b[0m\n\u001b[1;32m      3\u001b[0m \u001b[0;32mfor\u001b[0m \u001b[0mword\u001b[0m \u001b[0;32min\u001b[0m \u001b[0mwords\u001b[0m\u001b[0;34m:\u001b[0m\u001b[0;34m\u001b[0m\u001b[0;34m\u001b[0m\u001b[0m\n\u001b[0;32m----> 4\u001b[0;31m  \u001b[0mby_letter\u001b[0m\u001b[0;34m[\u001b[0m\u001b[0mword\u001b[0m\u001b[0;34m[\u001b[0m\u001b[0;36m0\u001b[0m\u001b[0;34m]\u001b[0m\u001b[0;34m]\u001b[0m\u001b[0;34m.\u001b[0m\u001b[0mappend\u001b[0m\u001b[0;34m(\u001b[0m\u001b[0mword\u001b[0m\u001b[0;34m)\u001b[0m\u001b[0;34m\u001b[0m\u001b[0;34m\u001b[0m\u001b[0m\n\u001b[0m",
            "\u001b[0;31mAttributeError\u001b[0m: 'dict_keys' object has no attribute 'append'"
          ]
        }
      ]
    },
    {
      "cell_type": "markdown",
      "source": [
        "SET"
      ],
      "metadata": {
        "id": "Haek3eijAx5Z"
      }
    },
    {
      "cell_type": "code",
      "source": [
        "set([2,2,2,1,3,3])"
      ],
      "metadata": {
        "colab": {
          "base_uri": "https://localhost:8080/"
        },
        "id": "ZsznHpgaAP4p",
        "outputId": "66cb3b88-3079-4631-8c30-8b90ede29bfc"
      },
      "execution_count": 45,
      "outputs": [
        {
          "output_type": "execute_result",
          "data": {
            "text/plain": [
              "{1, 2, 3}"
            ]
          },
          "metadata": {},
          "execution_count": 45
        }
      ]
    },
    {
      "cell_type": "code",
      "source": [
        "a = {1, 2, 3, 4, 5}\n",
        "b = {3, 4, 5, 6, 7, 8}\n",
        "a.union(b)"
      ],
      "metadata": {
        "colab": {
          "base_uri": "https://localhost:8080/"
        },
        "id": "MkD4UGfSAP7I",
        "outputId": "de4d3cab-2794-447e-a046-a41ebd6f9c92"
      },
      "execution_count": 46,
      "outputs": [
        {
          "output_type": "execute_result",
          "data": {
            "text/plain": [
              "{1, 2, 3, 4, 5, 6, 7, 8}"
            ]
          },
          "metadata": {},
          "execution_count": 46
        }
      ]
    },
    {
      "cell_type": "code",
      "source": [
        "a | b\n"
      ],
      "metadata": {
        "colab": {
          "base_uri": "https://localhost:8080/"
        },
        "id": "OtHutT7TAP-C",
        "outputId": "c84bb7d0-b701-4b19-9f10-2b24bf1ba744"
      },
      "execution_count": 47,
      "outputs": [
        {
          "output_type": "execute_result",
          "data": {
            "text/plain": [
              "{1, 2, 3, 4, 5, 6, 7, 8}"
            ]
          },
          "metadata": {},
          "execution_count": 47
        }
      ]
    },
    {
      "cell_type": "code",
      "source": [
        "a.intersection(b)"
      ],
      "metadata": {
        "colab": {
          "base_uri": "https://localhost:8080/"
        },
        "id": "Gu1d-NyIAQA6",
        "outputId": "81f0c591-dba5-49bc-850f-5751ef92ce98"
      },
      "execution_count": 48,
      "outputs": [
        {
          "output_type": "execute_result",
          "data": {
            "text/plain": [
              "{3, 4, 5}"
            ]
          },
          "metadata": {},
          "execution_count": 48
        }
      ]
    },
    {
      "cell_type": "code",
      "source": [
        "a&b"
      ],
      "metadata": {
        "colab": {
          "base_uri": "https://localhost:8080/"
        },
        "id": "wWnwp-0ZAQD6",
        "outputId": "ab3b38ec-9746-4f6f-9672-d5d0e96b94fc"
      },
      "execution_count": 49,
      "outputs": [
        {
          "output_type": "execute_result",
          "data": {
            "text/plain": [
              "{3, 4, 5}"
            ]
          },
          "metadata": {},
          "execution_count": 49
        }
      ]
    },
    {
      "cell_type": "code",
      "source": [
        "c = a.copy()"
      ],
      "metadata": {
        "id": "87x-BC3FBYaC"
      },
      "execution_count": 50,
      "outputs": []
    },
    {
      "cell_type": "code",
      "source": [
        "c"
      ],
      "metadata": {
        "colab": {
          "base_uri": "https://localhost:8080/"
        },
        "id": "C5zfFIUKBYdK",
        "outputId": "59edc9d9-6cd9-4434-cf78-95fa43af3987"
      },
      "execution_count": 51,
      "outputs": [
        {
          "output_type": "execute_result",
          "data": {
            "text/plain": [
              "{1, 2, 3, 4, 5}"
            ]
          },
          "metadata": {},
          "execution_count": 51
        }
      ]
    },
    {
      "cell_type": "markdown",
      "source": [
        "List Set Dict Comprehensions"
      ],
      "metadata": {
        "id": "2qSUKkYKCZmT"
      }
    },
    {
      "cell_type": "code",
      "source": [
        "strings = ['a', 'as', 'bat', 'car', 'dove', 'python']\n"
      ],
      "metadata": {
        "id": "1h95ROVsBYgU"
      },
      "execution_count": 52,
      "outputs": []
    },
    {
      "cell_type": "code",
      "source": [
        "[x.upper() for x in strings if len(x)>2]"
      ],
      "metadata": {
        "colab": {
          "base_uri": "https://localhost:8080/"
        },
        "id": "FBhx74igBYjf",
        "outputId": "16c2a4a0-b74f-4e3c-a1c4-c0ad49c268a6"
      },
      "execution_count": 53,
      "outputs": [
        {
          "output_type": "execute_result",
          "data": {
            "text/plain": [
              "['BAT', 'CAR', 'DOVE', 'PYTHON']"
            ]
          },
          "metadata": {},
          "execution_count": 53
        }
      ]
    },
    {
      "cell_type": "code",
      "source": [
        "unique_lengths = {len(x) for x in strings}\n",
        "unique_lengths\n"
      ],
      "metadata": {
        "colab": {
          "base_uri": "https://localhost:8080/"
        },
        "id": "taLKGFTvAQHP",
        "outputId": "04c4a8da-f901-497f-d601-3540fa9f4e18"
      },
      "execution_count": 55,
      "outputs": [
        {
          "output_type": "execute_result",
          "data": {
            "text/plain": [
              "{1, 2, 3, 4, 6}"
            ]
          },
          "metadata": {},
          "execution_count": 55
        }
      ]
    },
    {
      "cell_type": "code",
      "source": [
        "loc_mapping = {val : index for index, val in enumerate(strings)}\n",
        "loc_mapping"
      ],
      "metadata": {
        "id": "IfbMFbCBPt13",
        "colab": {
          "base_uri": "https://localhost:8080/"
        },
        "outputId": "d4a3e496-52ea-4aa4-e44b-6a2be921e202"
      },
      "execution_count": 57,
      "outputs": [
        {
          "output_type": "execute_result",
          "data": {
            "text/plain": [
              "{'a': 0, 'as': 1, 'bat': 2, 'car': 3, 'dove': 4, 'python': 5}"
            ]
          },
          "metadata": {},
          "execution_count": 57
        }
      ]
    },
    {
      "cell_type": "code",
      "source": [
        "all_data = [['John', 'Emily', 'Michael', 'Mary', 'Steven','Reeevan'],\n",
        " ['Maria', 'Juan', 'Javier', 'Natalia', 'Pilar']]\n"
      ],
      "metadata": {
        "id": "NgGszot6Dcju"
      },
      "execution_count": 61,
      "outputs": []
    },
    {
      "cell_type": "code",
      "source": [
        "names_of_int = []\n",
        "for names in all_data:\n",
        "  enough = [name for name in names if name.count('e')>=2]\n",
        "  names_of_int.extend(enough)\n",
        "names_of_int"
      ],
      "metadata": {
        "colab": {
          "base_uri": "https://localhost:8080/"
        },
        "id": "sxe2X2k5Dcnc",
        "outputId": "d67a4c1a-5e11-418d-bb6b-4724ca168457"
      },
      "execution_count": 62,
      "outputs": [
        {
          "output_type": "execute_result",
          "data": {
            "text/plain": [
              "['Steven', 'Reeevan']"
            ]
          },
          "metadata": {},
          "execution_count": 62
        }
      ]
    },
    {
      "cell_type": "code",
      "source": [
        " some_tuples = [(1, 2, 3), (4, 5, 6), (7, 8, 9)]\n"
      ],
      "metadata": {
        "id": "ft2J_5A4Dcqx"
      },
      "execution_count": 63,
      "outputs": []
    },
    {
      "cell_type": "code",
      "source": [
        "flattened = [x for tup in some_tuples for x in tup]\n",
        "flattened"
      ],
      "metadata": {
        "colab": {
          "base_uri": "https://localhost:8080/"
        },
        "id": "WGFl5VfuDc5x",
        "outputId": "c05c0358-c784-4cd6-cec9-da1d672e1a93"
      },
      "execution_count": 69,
      "outputs": [
        {
          "output_type": "execute_result",
          "data": {
            "text/plain": [
              "[1, 2, 3, 4, 5, 6, 7, 8, 9]"
            ]
          },
          "metadata": {},
          "execution_count": 69
        }
      ]
    },
    {
      "cell_type": "code",
      "source": [
        "for tup in some_tuples:\n",
        "  for x in tup:\n",
        "    print(x)"
      ],
      "metadata": {
        "colab": {
          "base_uri": "https://localhost:8080/"
        },
        "id": "KG5HNKWxDc85",
        "outputId": "69bd7d84-b131-4455-f8c0-1112ccdb921b"
      },
      "execution_count": 67,
      "outputs": [
        {
          "output_type": "stream",
          "name": "stdout",
          "text": [
            "1\n",
            "2\n",
            "3\n",
            "4\n",
            "5\n",
            "6\n",
            "7\n",
            "8\n",
            "9\n"
          ]
        }
      ]
    },
    {
      "cell_type": "code",
      "source": [
        "flattened = []\n",
        "for tup in some_tuples:\n",
        " for x in tup:\n",
        "  flattened.append(x)\n",
        "flattened"
      ],
      "metadata": {
        "colab": {
          "base_uri": "https://localhost:8080/"
        },
        "id": "zCKQ8Sw5Dc__",
        "outputId": "6bb66791-b0f5-4bbd-c40e-c6566c46782b"
      },
      "execution_count": 73,
      "outputs": [
        {
          "output_type": "execute_result",
          "data": {
            "text/plain": [
              "[1, 2, 3, 4, 5, 6, 7, 8, 9]"
            ]
          },
          "metadata": {},
          "execution_count": 73
        }
      ]
    },
    {
      "cell_type": "code",
      "source": [
        "y = [flattened.append(x) for tup in some_tuples for x in tup]\n",
        "y"
      ],
      "metadata": {
        "colab": {
          "base_uri": "https://localhost:8080/"
        },
        "id": "7xRI4AU5DdC4",
        "outputId": "f93819b5-a5dc-44e9-b04c-63a85c7397cd"
      },
      "execution_count": 75,
      "outputs": [
        {
          "output_type": "execute_result",
          "data": {
            "text/plain": [
              "[None, None, None, None, None, None, None, None, None]"
            ]
          },
          "metadata": {},
          "execution_count": 75
        }
      ]
    },
    {
      "cell_type": "markdown",
      "source": [
        ""
      ],
      "metadata": {
        "id": "zYevkCb5G2Z7"
      }
    },
    {
      "cell_type": "markdown",
      "source": [
        "Function: Functions are the primary and most important method of code organization and\n",
        "reuse in Python."
      ],
      "metadata": {
        "id": "vtk4nqVeG2df"
      }
    },
    {
      "cell_type": "code",
      "source": [
        "def my_function(x, y, z=1.5):\n",
        " if z > 1:\n",
        "  return z * (x + y)\n",
        " else:\n",
        "  return z / (x + y)\n"
      ],
      "metadata": {
        "id": "oL65YOi1DdF-"
      },
      "execution_count": 77,
      "outputs": []
    },
    {
      "cell_type": "code",
      "source": [
        "my_function(5, 6, z=0.7)\n",
        "my_function(3.14, 7, 3.5)\n",
        "my_function(10, 20)\n"
      ],
      "metadata": {
        "colab": {
          "base_uri": "https://localhost:8080/"
        },
        "id": "Q6TkhuOjG5nE",
        "outputId": "893db4a9-9ecd-4126-daff-8798d99b5f88"
      },
      "execution_count": 78,
      "outputs": [
        {
          "output_type": "execute_result",
          "data": {
            "text/plain": [
              "45.0"
            ]
          },
          "metadata": {},
          "execution_count": 78
        }
      ]
    },
    {
      "cell_type": "code",
      "source": [
        "a = []\n",
        "def func():\n",
        " for i in range(5):\n",
        "  a.append(i)"
      ],
      "metadata": {
        "id": "4gmQPHj7G5qI"
      },
      "execution_count": 80,
      "outputs": []
    },
    {
      "cell_type": "code",
      "source": [
        " def bind_a_variable():\n",
        "  global a\n",
        "  a = []\n",
        "  bind_a_variable()\n"
      ],
      "metadata": {
        "id": "PfKXeFqKG5tO"
      },
      "execution_count": 81,
      "outputs": []
    },
    {
      "cell_type": "code",
      "source": [
        "states = [' Alabama ', 'Georgia!', 'Georgia', 'geoorgia', 'FlOrIda',\n",
        " 'south carolina#', 'West virginia?']"
      ],
      "metadata": {
        "id": "7K0lrHimG5vt"
      },
      "execution_count": 85,
      "outputs": []
    },
    {
      "cell_type": "code",
      "source": [
        "import re\n",
        "def clean_strings(strings):\n",
        " result = []\n",
        " for value in strings:\n",
        "  value = value.strip()\n",
        "  value = re.sub('[!#?]', '', value)\n",
        "  value = value.title()\n",
        "  result.append(value)\n",
        " return result\n"
      ],
      "metadata": {
        "id": "iNWDIHSsG5y3"
      },
      "execution_count": 89,
      "outputs": []
    },
    {
      "cell_type": "code",
      "source": [
        "clean_strings(states)"
      ],
      "metadata": {
        "colab": {
          "base_uri": "https://localhost:8080/"
        },
        "id": "f12k1e94G6De",
        "outputId": "01b8deda-a8c8-43ff-b164-b702bcc8c77f"
      },
      "execution_count": 90,
      "outputs": [
        {
          "output_type": "execute_result",
          "data": {
            "text/plain": [
              "['Alabama',\n",
              " 'Georgia',\n",
              " 'Georgia',\n",
              " 'Geoorgia',\n",
              " 'Florida',\n",
              " 'South Carolina',\n",
              " 'West Virginia']"
            ]
          },
          "metadata": {},
          "execution_count": 90
        }
      ]
    },
    {
      "cell_type": "code",
      "source": [
        "def remove_punctuation(value):\n",
        " return re.sub('[!#?]', '', value)"
      ],
      "metadata": {
        "id": "FVHfzM1fG6GX"
      },
      "execution_count": 91,
      "outputs": []
    },
    {
      "cell_type": "code",
      "source": [
        "clean_ops = [str.strip, remove_punctuation, str.title]"
      ],
      "metadata": {
        "id": "NM5vUvMVJJR2"
      },
      "execution_count": 94,
      "outputs": []
    },
    {
      "cell_type": "code",
      "source": [
        "def clean_strings(strings, ops):\n",
        " result = []\n",
        " for value in strings:\n",
        "  for function in ops:\n",
        "   value = function(value)\n",
        "  result.append(value)\n",
        " return result"
      ],
      "metadata": {
        "id": "NJhX5nkNG6Jj"
      },
      "execution_count": 97,
      "outputs": []
    },
    {
      "cell_type": "code",
      "source": [
        "clean_strings(states, clean_ops)"
      ],
      "metadata": {
        "colab": {
          "base_uri": "https://localhost:8080/"
        },
        "id": "2EMqTnwlInZu",
        "outputId": "54b59dd1-6419-4090-bfdb-2f1f2c5a378f"
      },
      "execution_count": 98,
      "outputs": [
        {
          "output_type": "execute_result",
          "data": {
            "text/plain": [
              "['Alabama',\n",
              " 'Georgia',\n",
              " 'Georgia',\n",
              " 'Geoorgia',\n",
              " 'Florida',\n",
              " 'South Carolina',\n",
              " 'West Virginia']"
            ]
          },
          "metadata": {},
          "execution_count": 98
        }
      ]
    },
    {
      "cell_type": "code",
      "source": [
        "for x in map(remove_punctuation, states):\n",
        "   print(x)"
      ],
      "metadata": {
        "colab": {
          "base_uri": "https://localhost:8080/"
        },
        "id": "qOCZj6xKInc-",
        "outputId": "35f76174-3b16-48c1-832a-e63c50fb1f7e"
      },
      "execution_count": 99,
      "outputs": [
        {
          "output_type": "stream",
          "name": "stdout",
          "text": [
            " Alabama \n",
            "Georgia\n",
            "Georgia\n",
            "geoorgia\n",
            "FlOrIda\n",
            "south carolina\n",
            "West virginia\n"
          ]
        }
      ]
    },
    {
      "cell_type": "markdown",
      "source": [
        "LAMDA - Python has support for so-called anonymous or lambda functions, which are a way of\n",
        "writing functions consisting of a single statement, the result of which is the return\n",
        "value"
      ],
      "metadata": {
        "id": "pir0yC5kKAMH"
      }
    },
    {
      "cell_type": "code",
      "source": [
        "def short_function(x):\n",
        " return x * 2\n",
        "equiv_anon = lambda x: x * 2"
      ],
      "metadata": {
        "id": "z2Q0gj1LIngI"
      },
      "execution_count": 100,
      "outputs": []
    },
    {
      "cell_type": "code",
      "source": [
        "def apply_to_list(some_list, f):\n",
        " return [f(x) for x in some_list]"
      ],
      "metadata": {
        "id": "F8Kpb_e8InjT"
      },
      "execution_count": 101,
      "outputs": []
    },
    {
      "cell_type": "code",
      "source": [
        "ints = [4, 0, 1, 5, 6]\n",
        "apply_to_list(ints, lambda x: x * 2)\n"
      ],
      "metadata": {
        "colab": {
          "base_uri": "https://localhost:8080/"
        },
        "id": "tCL8hRCJKVGO",
        "outputId": "66b285bb-cfe8-46ae-9572-df99d86c744b"
      },
      "execution_count": 102,
      "outputs": [
        {
          "output_type": "execute_result",
          "data": {
            "text/plain": [
              "[8, 0, 2, 10, 12]"
            ]
          },
          "metadata": {},
          "execution_count": 102
        }
      ]
    },
    {
      "cell_type": "code",
      "source": [
        "strings = ['foo', 'card', 'bar', 'aaaa', 'abab']\n"
      ],
      "metadata": {
        "id": "hLo3QHGqKVJl"
      },
      "execution_count": 103,
      "outputs": []
    },
    {
      "cell_type": "code",
      "source": [
        "strings.sort(key=lambda x: len(set(list(x))))\n"
      ],
      "metadata": {
        "id": "sSl_MZ2CKVNy"
      },
      "execution_count": null,
      "outputs": []
    },
    {
      "cell_type": "markdown",
      "source": [
        "Generator"
      ],
      "metadata": {
        "id": "nqvxPg_2K9t-"
      }
    },
    {
      "cell_type": "code",
      "source": [
        "def squares(n=10):\n",
        " print('Generating squares from 1 to {0}'.format(n ** 2))\n",
        " for i in range(1, n + 1):\n",
        "  yield i ** 2\n"
      ],
      "metadata": {
        "id": "vxQnuOVkKVRn"
      },
      "execution_count": 107,
      "outputs": []
    },
    {
      "cell_type": "code",
      "source": [
        "gen = squares()\n"
      ],
      "metadata": {
        "id": "xoCIt12mKVnp"
      },
      "execution_count": 108,
      "outputs": []
    },
    {
      "cell_type": "code",
      "source": [
        "gen"
      ],
      "metadata": {
        "colab": {
          "base_uri": "https://localhost:8080/"
        },
        "id": "atPfc2UILIeM",
        "outputId": "7dcf1c6f-7f58-4a7f-f554-e50b69780666"
      },
      "execution_count": 109,
      "outputs": [
        {
          "output_type": "execute_result",
          "data": {
            "text/plain": [
              "<generator object squares at 0x7fd8ba6a58d0>"
            ]
          },
          "metadata": {},
          "execution_count": 109
        }
      ]
    },
    {
      "cell_type": "code",
      "source": [
        "for x in gen:\n",
        "  print(x, end=' ')"
      ],
      "metadata": {
        "colab": {
          "base_uri": "https://localhost:8080/"
        },
        "id": "URSyMqdwLIg9",
        "outputId": "605ae455-2887-46a8-e384-84fe6248c8bf"
      },
      "execution_count": 110,
      "outputs": [
        {
          "output_type": "stream",
          "name": "stdout",
          "text": [
            "Generating squares from 1 to 100\n",
            "1 4 9 16 25 36 49 64 81 100 "
          ]
        }
      ]
    },
    {
      "cell_type": "code",
      "source": [
        ""
      ],
      "metadata": {
        "id": "FgkWCJcELIjq"
      },
      "execution_count": null,
      "outputs": []
    },
    {
      "cell_type": "code",
      "source": [
        ""
      ],
      "metadata": {
        "id": "vXEiDAnaLImg"
      },
      "execution_count": null,
      "outputs": []
    },
    {
      "cell_type": "code",
      "source": [
        ""
      ],
      "metadata": {
        "id": "g5Kxc15YLIp2"
      },
      "execution_count": null,
      "outputs": []
    }
  ]
}