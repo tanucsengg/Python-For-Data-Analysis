{
  "nbformat": 4,
  "nbformat_minor": 0,
  "metadata": {
    "colab": {
      "name": "Python for Data Analysis.ipynb",
      "provenance": [],
      "collapsed_sections": [],
      "authorship_tag": "ABX9TyOYNVf6ahm8TSHU+T64IyjJ",
      "include_colab_link": true
    },
    "kernelspec": {
      "name": "python3",
      "display_name": "Python 3"
    },
    "language_info": {
      "name": "python"
    }
  },
  "cells": [
    {
      "cell_type": "markdown",
      "metadata": {
        "id": "view-in-github",
        "colab_type": "text"
      },
      "source": [
        "<a href=\"https://colab.research.google.com/github/tanucsengg/Python-For-Data-Analysis/blob/main/Python_for_Data_Analysis.ipynb\" target=\"_parent\"><img src=\"https://colab.research.google.com/assets/colab-badge.svg\" alt=\"Open In Colab\"/></a>"
      ]
    },
    {
      "cell_type": "code",
      "execution_count": null,
      "metadata": {
        "id": "zhPVjrKZCNPx"
      },
      "outputs": [],
      "source": [
        "## This Colab Notebook holds the excercises done for the understanding of Data Analysis using Python "
      ]
    },
    {
      "cell_type": "markdown",
      "source": [
        "Chapter 1 "
      ],
      "metadata": {
        "id": "meZKL9FACWPL"
      }
    },
    {
      "cell_type": "code",
      "source": [
        "## Essential Python Libraries are \n",
        "# Numpy, Pandas, Matplotlib, Ipython and Jupyter, scipy, scikit learn, statsmodel"
      ],
      "metadata": {
        "id": "Id0detjeCVAs"
      },
      "execution_count": null,
      "outputs": []
    },
    {
      "cell_type": "markdown",
      "source": [
        "Chapter 2"
      ],
      "metadata": {
        "id": "0CMum3KMEF-8"
      }
    },
    {
      "cell_type": "code",
      "source": [
        "a = 5 \n",
        "print(a)"
      ],
      "metadata": {
        "colab": {
          "base_uri": "https://localhost:8080/"
        },
        "id": "_BlMK910CVDe",
        "outputId": "0b033904-c2b0-4b14-b618-bb883f6d382e"
      },
      "execution_count": 2,
      "outputs": [
        {
          "output_type": "stream",
          "name": "stdout",
          "text": [
            "5\n"
          ]
        }
      ]
    },
    {
      "cell_type": "code",
      "source": [
        "print(\"Hello World!!!\")"
      ],
      "metadata": {
        "colab": {
          "base_uri": "https://localhost:8080/"
        },
        "id": "zGCvj5mVCVGE",
        "outputId": "398976f2-fd13-472c-d41d-cac4d8c2fc97"
      },
      "execution_count": 3,
      "outputs": [
        {
          "output_type": "stream",
          "name": "stdout",
          "text": [
            "Hello World!!!\n"
          ]
        }
      ]
    },
    {
      "cell_type": "code",
      "source": [
        "import numpy as np\n",
        "data = {i:np.random.randn() for i in range(7)} # new python dictionary is created afetr this step as data\n",
        "data"
      ],
      "metadata": {
        "colab": {
          "base_uri": "https://localhost:8080/"
        },
        "id": "cB7GuO3HCVIZ",
        "outputId": "f8d5a7c7-f350-4342-b9a2-2b0dbb6d6983"
      },
      "execution_count": 4,
      "outputs": [
        {
          "output_type": "execute_result",
          "data": {
            "text/plain": [
              "{0: -1.9603879417723886,\n",
              " 1: -0.2442064284237347,\n",
              " 2: 1.158926994459378,\n",
              " 3: -0.4867749040777165,\n",
              " 4: -1.2615497527677308,\n",
              " 5: -0.8335118301719943,\n",
              " 6: 0.585007637653732}"
            ]
          },
          "metadata": {},
          "execution_count": 4
        }
      ]
    },
    {
      "cell_type": "code",
      "source": [
        "# Broken as follows\n",
        "for i in range(7):\n",
        "  i = np.random.randn()\n",
        "  print(i)"
      ],
      "metadata": {
        "colab": {
          "base_uri": "https://localhost:8080/"
        },
        "id": "932YSS0FCVK6",
        "outputId": "c3507c1e-9015-4dc6-a391-80695eda6ca5"
      },
      "execution_count": 5,
      "outputs": [
        {
          "output_type": "stream",
          "name": "stdout",
          "text": [
            "-1.0798677758474025\n",
            "-1.2900933998966106\n",
            "0.9586052133567143\n",
            "1.9122730640741383\n",
            "0.6473801080411431\n",
            "0.7627484313971673\n",
            "-0.8992381857012449\n"
          ]
        }
      ]
    },
    {
      "cell_type": "code",
      "source": [
        "from numpy.random import randn\n",
        "data = {i:randn() for i in range(7)}\n",
        "print(data)# print this makes is less readable as compared to simply writing as data"
      ],
      "metadata": {
        "colab": {
          "base_uri": "https://localhost:8080/"
        },
        "id": "3ixFtO11CVNg",
        "outputId": "6da94bc9-ec88-4ca3-9ac9-3c997fd3d8f1"
      },
      "execution_count": 6,
      "outputs": [
        {
          "output_type": "stream",
          "name": "stdout",
          "text": [
            "{0: 0.8503926066143307, 1: -1.1331169792976585, 2: -0.14019401831129918, 3: 0.4869639212075515, 4: -0.0848616180925996, 5: -0.6037604385057024, 6: -0.4684530519129225}\n"
          ]
        }
      ]
    },
    {
      "cell_type": "markdown",
      "source": [
        "Coomands on the list append,count,reverse,insert, clear,extend, pop, sort,copy, index,remove"
      ],
      "metadata": {
        "id": "_CGZJkLAHSeI"
      }
    },
    {
      "cell_type": "code",
      "source": [
        "b = [1,2,3]\n",
        "b.append(2)"
      ],
      "metadata": {
        "id": "tV3jljdKFogf"
      },
      "execution_count": 31,
      "outputs": []
    },
    {
      "cell_type": "code",
      "source": [
        "print(b)"
      ],
      "metadata": {
        "colab": {
          "base_uri": "https://localhost:8080/"
        },
        "id": "QrMaE4qfFojA",
        "outputId": "e6d6cd53-65b3-46fa-a55e-490061baa95b"
      },
      "execution_count": 22,
      "outputs": [
        {
          "output_type": "stream",
          "name": "stdout",
          "text": [
            "[1, 2, 3, 2]\n"
          ]
        }
      ]
    },
    {
      "cell_type": "code",
      "source": [
        "# count can count the value of occurance of any number like in this case 2 occurs twice \n",
        "b.count(2)\n"
      ],
      "metadata": {
        "colab": {
          "base_uri": "https://localhost:8080/"
        },
        "id": "LYQOPBXKFolq",
        "outputId": "c166658c-a94c-4c2d-8ae2-e6cd814ae56f"
      },
      "execution_count": 16,
      "outputs": [
        {
          "output_type": "execute_result",
          "data": {
            "text/plain": [
              "2"
            ]
          },
          "metadata": {},
          "execution_count": 16
        }
      ]
    },
    {
      "cell_type": "code",
      "source": [
        "#\n",
        "print(b.reverse())"
      ],
      "metadata": {
        "colab": {
          "base_uri": "https://localhost:8080/"
        },
        "id": "5TRpUKcdFooC",
        "outputId": "654b1d40-2811-4a09-e185-5b67c3fc3ef7"
      },
      "execution_count": 23,
      "outputs": [
        {
          "output_type": "stream",
          "name": "stdout",
          "text": [
            "None\n"
          ]
        }
      ]
    },
    {
      "cell_type": "code",
      "source": [
        "b.insert(5,5)"
      ],
      "metadata": {
        "id": "PaHhkb_QFoq4"
      },
      "execution_count": 32,
      "outputs": []
    },
    {
      "cell_type": "code",
      "source": [
        "# Clear the complete list\n",
        "b.clear()"
      ],
      "metadata": {
        "id": "LjugujygFot4"
      },
      "execution_count": 29,
      "outputs": []
    },
    {
      "cell_type": "code",
      "source": [
        "print(b)"
      ],
      "metadata": {
        "colab": {
          "base_uri": "https://localhost:8080/"
        },
        "id": "5eEI5ruPQhwj",
        "outputId": "55c4d0e4-d83c-4fb8-d9b8-39debafa4e2d"
      },
      "execution_count": 30,
      "outputs": [
        {
          "output_type": "stream",
          "name": "stdout",
          "text": [
            "[]\n"
          ]
        }
      ]
    },
    {
      "cell_type": "code",
      "source": [
        "a=[2,3,4,5]"
      ],
      "metadata": {
        "id": "uaP8nZDTCVQi"
      },
      "execution_count": 40,
      "outputs": []
    },
    {
      "cell_type": "code",
      "source": [
        "# extend the list a in the last of the list b\n",
        "b.extend(a)"
      ],
      "metadata": {
        "id": "giUBagTgRTS3"
      },
      "execution_count": 41,
      "outputs": []
    },
    {
      "cell_type": "code",
      "source": [
        "print(b)"
      ],
      "metadata": {
        "colab": {
          "base_uri": "https://localhost:8080/"
        },
        "id": "U7i7G_J6RYBc",
        "outputId": "61c43931-25ef-4c9c-daea-69cca315f20a"
      },
      "execution_count": 48,
      "outputs": [
        {
          "output_type": "stream",
          "name": "stdout",
          "text": [
            "[5, 4, 3, 3, 2, 2, 2, 1]\n"
          ]
        }
      ]
    },
    {
      "cell_type": "code",
      "source": [
        "# takes the last element\n",
        "b.pop()"
      ],
      "metadata": {
        "colab": {
          "base_uri": "https://localhost:8080/"
        },
        "id": "FKz9WerZHuNZ",
        "outputId": "391fc35e-fc83-468e-9065-b4afa303db3c"
      },
      "execution_count": 43,
      "outputs": [
        {
          "output_type": "execute_result",
          "data": {
            "text/plain": [
              "5"
            ]
          },
          "metadata": {},
          "execution_count": 43
        }
      ]
    },
    {
      "cell_type": "code",
      "source": [
        ""
      ],
      "metadata": {
        "id": "kz_YBQc2SAM5"
      },
      "execution_count": null,
      "outputs": []
    },
    {
      "cell_type": "code",
      "source": [
        "# sort the list in the rfebverse order\n",
        "print(b.sort(reverse= True))"
      ],
      "metadata": {
        "colab": {
          "base_uri": "https://localhost:8080/"
        },
        "id": "XxhtwCstHuQs",
        "outputId": "eca46f99-bad3-4d11-d1df-8df645c7a1ea"
      },
      "execution_count": 47,
      "outputs": [
        {
          "output_type": "stream",
          "name": "stdout",
          "text": [
            "None\n"
          ]
        }
      ]
    },
    {
      "cell_type": "code",
      "source": [
        "# Make a copy of b to the another list c\n",
        "c = b.copy()"
      ],
      "metadata": {
        "id": "JApmZnTKH1nQ"
      },
      "execution_count": 50,
      "outputs": []
    },
    {
      "cell_type": "code",
      "source": [
        "print(c)"
      ],
      "metadata": {
        "colab": {
          "base_uri": "https://localhost:8080/"
        },
        "id": "caXGI2pHSagl",
        "outputId": "f457da57-0c38-4ba9-9658-af55002bbead"
      },
      "execution_count": 51,
      "outputs": [
        {
          "output_type": "stream",
          "name": "stdout",
          "text": [
            "[5, 4, 3, 3, 2, 2, 2, 1]\n"
          ]
        }
      ]
    },
    {
      "cell_type": "code",
      "source": [
        "# check the index position of number like in this case 4 is at position 1 in the list\n",
        "b. index(4)"
      ],
      "metadata": {
        "colab": {
          "base_uri": "https://localhost:8080/"
        },
        "id": "_YVvp1wWH1qC",
        "outputId": "09d01352-8562-48b8-fee4-9dd5fa2066c9"
      },
      "execution_count": 52,
      "outputs": [
        {
          "output_type": "execute_result",
          "data": {
            "text/plain": [
              "1"
            ]
          },
          "metadata": {},
          "execution_count": 52
        }
      ]
    },
    {
      "cell_type": "code",
      "source": [
        "# remove the element 4 from the list \n",
        "b.remove(4)"
      ],
      "metadata": {
        "id": "aifvI9M0H1tS"
      },
      "execution_count": 53,
      "outputs": []
    },
    {
      "cell_type": "code",
      "source": [
        "print(b)"
      ],
      "metadata": {
        "colab": {
          "base_uri": "https://localhost:8080/"
        },
        "id": "7TxsYno4S3WG",
        "outputId": "6a0921b1-16af-4aa1-ad2f-4cc7745aba73"
      },
      "execution_count": 54,
      "outputs": [
        {
          "output_type": "stream",
          "name": "stdout",
          "text": [
            "[5, 3, 3, 2, 2, 2, 1]\n"
          ]
        }
      ]
    },
    {
      "cell_type": "markdown",
      "source": [
        "Datetime commands \n",
        "date, MAXYEAR, MINYEAR,datetime,timedelta,timezone,time,tzinfo,datetime_CAPI"
      ],
      "metadata": {
        "id": "MGAaX8ROS-wF"
      }
    },
    {
      "cell_type": "code",
      "source": [
        "import datetime\n",
        "print(datetime.date(2021,6,7))"
      ],
      "metadata": {
        "colab": {
          "base_uri": "https://localhost:8080/"
        },
        "id": "fg67V81aS6Ci",
        "outputId": "4db3c916-238e-476a-ec1e-2643de87bb58"
      },
      "execution_count": 57,
      "outputs": [
        {
          "output_type": "stream",
          "name": "stdout",
          "text": [
            "2021-06-07\n"
          ]
        }
      ]
    },
    {
      "cell_type": "code",
      "source": [
        "datetime.MAXYEAR(2021)"
      ],
      "metadata": {
        "colab": {
          "base_uri": "https://localhost:8080/",
          "height": 166
        },
        "id": "3bkSka6xS6FX",
        "outputId": "d366ea24-60cc-4e8c-e531-a288bdac24b7"
      },
      "execution_count": 60,
      "outputs": [
        {
          "output_type": "error",
          "ename": "TypeError",
          "evalue": "ignored",
          "traceback": [
            "\u001b[0;31m---------------------------------------------------------------------------\u001b[0m",
            "\u001b[0;31mTypeError\u001b[0m                                 Traceback (most recent call last)",
            "\u001b[0;32m<ipython-input-60-8241c39f7873>\u001b[0m in \u001b[0;36m<module>\u001b[0;34m()\u001b[0m\n\u001b[0;32m----> 1\u001b[0;31m \u001b[0mdatetime\u001b[0m\u001b[0;34m.\u001b[0m\u001b[0mMAXYEAR\u001b[0m\u001b[0;34m(\u001b[0m\u001b[0;36m2021\u001b[0m\u001b[0;34m)\u001b[0m\u001b[0;34m\u001b[0m\u001b[0;34m\u001b[0m\u001b[0m\n\u001b[0m",
            "\u001b[0;31mTypeError\u001b[0m: 'int' object is not callable"
          ]
        }
      ]
    },
    {
      "cell_type": "markdown",
      "source": [
        "FUNCTIONS IMPLEMENTATION "
      ],
      "metadata": {
        "id": "GT7ltVLXV760"
      }
    },
    {
      "cell_type": "code",
      "source": [
        "def add_numbers(a,b):\n",
        "  sum = a+b\n",
        "  return sum\n",
        "print(\"sum of two numbers:\",add_numbers(2,3))"
      ],
      "metadata": {
        "colab": {
          "base_uri": "https://localhost:8080/"
        },
        "id": "jGlfRH6uS6H-",
        "outputId": "8befdb0f-5761-4a5f-ee3a-099c62126169"
      },
      "execution_count": 61,
      "outputs": [
        {
          "output_type": "stream",
          "name": "stdout",
          "text": [
            "sum of two numbers: 5\n"
          ]
        }
      ]
    },
    {
      "cell_type": "code",
      "source": [
        "def mulxtiply(a,b,c):\n",
        "  return (a+b/c)\n",
        "print(\"Multiply:\",mulxtiply(10,5,2))"
      ],
      "metadata": {
        "colab": {
          "base_uri": "https://localhost:8080/"
        },
        "id": "cib3MuqvS6Kc",
        "outputId": "601bc684-611a-426a-bde4-7459e72d9115"
      },
      "execution_count": 62,
      "outputs": [
        {
          "output_type": "stream",
          "name": "stdout",
          "text": [
            "Multiply: 12.5\n"
          ]
        }
      ]
    },
    {
      "cell_type": "code",
      "source": [
        "# Magic Commands \n",
        "a = np.random.randn(100,100)\n",
        "%timeit np.dot(a,a)"
      ],
      "metadata": {
        "colab": {
          "base_uri": "https://localhost:8080/"
        },
        "id": "pDKrmVR0S6NV",
        "outputId": "48072a66-e9b5-4831-b5c3-dbc23d906645"
      },
      "execution_count": 63,
      "outputs": [
        {
          "output_type": "stream",
          "name": "stdout",
          "text": [
            "The slowest run took 79.24 times longer than the fastest. This could mean that an intermediate result is being cached.\n",
            "10000 loops, best of 5: 93.9 µs per loop\n"
          ]
        }
      ]
    },
    {
      "cell_type": "code",
      "source": [
        "#aditional information can be seen using ? command\n",
        "%debug?"
      ],
      "metadata": {
        "id": "J0h7aYaoS6Pk"
      },
      "execution_count": 65,
      "outputs": []
    },
    {
      "cell_type": "code",
      "source": [
        "%pwd"
      ],
      "metadata": {
        "colab": {
          "base_uri": "https://localhost:8080/",
          "height": 35
        },
        "id": "FJNg0JlGS6Ty",
        "outputId": "9a8b14f1-a4fc-4c07-d976-a814a995b767"
      },
      "execution_count": 66,
      "outputs": [
        {
          "output_type": "execute_result",
          "data": {
            "application/vnd.google.colaboratory.intrinsic+json": {
              "type": "string"
            },
            "text/plain": [
              "'/content'"
            ]
          },
          "metadata": {},
          "execution_count": 66
        }
      ]
    },
    {
      "cell_type": "markdown",
      "source": [
        "Other magic commands are %quickreference,%magic,%debug,%hist,%pdb,%paste,%reset,%who,%whols,%xdel variable"
      ],
      "metadata": {
        "id": "Ag2NJ2bjagEf"
      }
    },
    {
      "cell_type": "code",
      "source": [
        ""
      ],
      "metadata": {
        "id": "NfVtxIrSZzbv"
      },
      "execution_count": null,
      "outputs": []
    },
    {
      "cell_type": "code",
      "source": [
        ""
      ],
      "metadata": {
        "id": "ZWi_jKaIZzet"
      },
      "execution_count": null,
      "outputs": []
    },
    {
      "cell_type": "code",
      "source": [
        ""
      ],
      "metadata": {
        "id": "LCHydxp5Zzib"
      },
      "execution_count": null,
      "outputs": []
    }
  ]
}