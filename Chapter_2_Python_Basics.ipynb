{
  "nbformat": 4,
  "nbformat_minor": 0,
  "metadata": {
    "colab": {
      "name": "Chapter 2 Python Basics.ipynb",
      "provenance": [],
      "collapsed_sections": [],
      "authorship_tag": "ABX9TyNU+XYeUwcN4KiUcWx9/f7N",
      "include_colab_link": true
    },
    "kernelspec": {
      "name": "python3",
      "display_name": "Python 3"
    },
    "language_info": {
      "name": "python"
    }
  },
  "cells": [
    {
      "cell_type": "markdown",
      "metadata": {
        "id": "view-in-github",
        "colab_type": "text"
      },
      "source": [
        "<a href=\"https://colab.research.google.com/github/tanucsengg/Python-For-Data-Analysis/blob/main/Chapter_2_Python_Basics.ipynb\" target=\"_parent\"><img src=\"https://colab.research.google.com/assets/colab-badge.svg\" alt=\"Open In Colab\"/></a>"
      ]
    },
    {
      "cell_type": "markdown",
      "source": [
        "**This Notebook contains the Excercise for the Chapter2 of the BookPython for Data Analysis by  is the solving for te chapter 2 Excercises by Wes MacKinney **"
      ],
      "metadata": {
        "id": "pehAlxS1XVIz"
      }
    },
    {
      "cell_type": "markdown",
      "source": [
        "1. Matplotlib Library for Visualization"
      ],
      "metadata": {
        "id": "2QbgV87z4Grc"
      }
    },
    {
      "cell_type": "code",
      "source": [
        "import matplotlib\n",
        "%matplotlib inline # for showing the results in the notebook only this command is used"
      ],
      "metadata": {
        "id": "7i8C4IicXdPB"
      },
      "execution_count": null,
      "outputs": []
    },
    {
      "cell_type": "code",
      "source": [
        "# loops and indentation\n",
        "for x in array:  # start of the block of code \n",
        "  if x < pivot:  # second line is indented using space \n",
        "    less.append(x)      # indentation proceeds further \n",
        "  else:\n",
        "    greater.append(x)"
      ],
      "metadata": {
        "id": "XN0iFNyQXdRy"
      },
      "execution_count": null,
      "outputs": []
    },
    {
      "cell_type": "code",
      "source": [
        "# multiple commands within the same line segreggated as follows\n",
        "a=5; b=6; c=7"
      ],
      "metadata": {
        "id": "t3NSlOCnXdVV"
      },
      "execution_count": null,
      "outputs": []
    },
    {
      "cell_type": "code",
      "source": [
        "file_handle = ['foo','cat','mat']\n",
        "results = []\n",
        "for line in file_handle:\n",
        "  results.append(line.replace('foo','bar'))   # here foo is replaced with bar and result is saved inside results list\n",
        "print(results)"
      ],
      "metadata": {
        "colab": {
          "base_uri": "https://localhost:8080/"
        },
        "id": "VfzvaYBOXdXy",
        "outputId": "fdb974b2-acc2-4b9d-815b-e92f3d2e7655"
      },
      "execution_count": null,
      "outputs": [
        {
          "output_type": "stream",
          "name": "stdout",
          "text": [
            "['bar', 'cat', 'mat']\n"
          ]
        }
      ]
    },
    {
      "cell_type": "markdown",
      "source": [
        " 2.  Variable and Argument Passing"
      ],
      "metadata": {
        "id": "5DHrOvZUcEJA"
      }
    },
    {
      "cell_type": "code",
      "source": [
        "a = [1,2,3]\n",
        "b= a\n",
        "# Now both a and b refer to the same location here the a is not copied to b instead now b also points to same location as a does."
      ],
      "metadata": {
        "id": "h40tQCDba1ru"
      },
      "execution_count": 1,
      "outputs": []
    },
    {
      "cell_type": "code",
      "source": [
        "a.append(4)"
      ],
      "metadata": {
        "id": "5QBVU19ma1uX"
      },
      "execution_count": 2,
      "outputs": []
    },
    {
      "cell_type": "code",
      "source": [
        "a"
      ],
      "metadata": {
        "id": "N_pVzNoia1wl",
        "colab": {
          "base_uri": "https://localhost:8080/"
        },
        "outputId": "7ca52108-8570-4463-9f4a-365584df3bd6"
      },
      "execution_count": 3,
      "outputs": [
        {
          "output_type": "execute_result",
          "data": {
            "text/plain": [
              "[1, 2, 3, 4]"
            ]
          },
          "metadata": {},
          "execution_count": 3
        }
      ]
    },
    {
      "cell_type": "code",
      "source": [
        "# Since we haven't added anything to b but 4 is appended to a automatically it got appended to b as they both are refering to the same location.\n",
        "b"
      ],
      "metadata": {
        "id": "06LKcxPca1zB",
        "colab": {
          "base_uri": "https://localhost:8080/"
        },
        "outputId": "ed822e8e-d461-4955-d48f-66c0da552ffb"
      },
      "execution_count": 4,
      "outputs": [
        {
          "output_type": "execute_result",
          "data": {
            "text/plain": [
              "[1, 2, 3, 4]"
            ]
          },
          "metadata": {},
          "execution_count": 4
        }
      ]
    },
    {
      "cell_type": "code",
      "source": [
        "# Adding the element using the function\n",
        "def append_element(some_list,element):\n",
        "  some_list.append(element)\n"
      ],
      "metadata": {
        "id": "chQlIuTpa12p"
      },
      "execution_count": 5,
      "outputs": []
    },
    {
      "cell_type": "code",
      "source": [
        "data = [2,3,4,5]"
      ],
      "metadata": {
        "id": "x0GxGes-XdaP"
      },
      "execution_count": 7,
      "outputs": []
    },
    {
      "cell_type": "code",
      "source": [
        "append_element(data, 6)"
      ],
      "metadata": {
        "id": "YU-0eRoGXddq"
      },
      "execution_count": 8,
      "outputs": []
    },
    {
      "cell_type": "code",
      "source": [
        "data"
      ],
      "metadata": {
        "colab": {
          "base_uri": "https://localhost:8080/"
        },
        "id": "r8F93SYscFgb",
        "outputId": "95b48f75-f651-412a-8ea5-5fbd3fbedc99"
      },
      "execution_count": 9,
      "outputs": [
        {
          "output_type": "execute_result",
          "data": {
            "text/plain": [
              "[2, 3, 4, 5, 6]"
            ]
          },
          "metadata": {},
          "execution_count": 9
        }
      ]
    },
    {
      "cell_type": "markdown",
      "source": [
        "3. Dynamic Refernces and Strong Type"
      ],
      "metadata": {
        "id": "5J6LWBxLcU9g"
      }
    },
    {
      "cell_type": "code",
      "source": [
        "a = 5\n",
        "type(a)"
      ],
      "metadata": {
        "colab": {
          "base_uri": "https://localhost:8080/"
        },
        "id": "YmMAMgcpcQu_",
        "outputId": "e07f8853-55c3-418f-9b5f-a7b98aacdbee"
      },
      "execution_count": 10,
      "outputs": [
        {
          "output_type": "execute_result",
          "data": {
            "text/plain": [
              "int"
            ]
          },
          "metadata": {},
          "execution_count": 10
        }
      ]
    },
    {
      "cell_type": "code",
      "source": [
        "a = 'hello'\n",
        "type(a)"
      ],
      "metadata": {
        "colab": {
          "base_uri": "https://localhost:8080/"
        },
        "id": "NS3q_8P8cQx0",
        "outputId": "6cf0930b-7368-459a-8f48-4c8700fa7f26"
      },
      "execution_count": 11,
      "outputs": [
        {
          "output_type": "execute_result",
          "data": {
            "text/plain": [
              "str"
            ]
          },
          "metadata": {},
          "execution_count": 11
        }
      ]
    },
    {
      "cell_type": "code",
      "source": [
        "a = 4.5\n",
        "b = 2\n",
        "print('a is {0} and b is {1}'. format(type(a),type(b)))"
      ],
      "metadata": {
        "colab": {
          "base_uri": "https://localhost:8080/"
        },
        "id": "FiUS3E6ncQ0g",
        "outputId": "eadb8b9e-bb4e-4232-8236-d280eecce1b6"
      },
      "execution_count": 13,
      "outputs": [
        {
          "output_type": "stream",
          "name": "stdout",
          "text": [
            "a is <class 'float'> and b is <class 'int'>\n"
          ]
        }
      ]
    },
    {
      "cell_type": "code",
      "source": [
        "a/b"
      ],
      "metadata": {
        "colab": {
          "base_uri": "https://localhost:8080/"
        },
        "id": "MxqnbJIydrQo",
        "outputId": "1f9ed0ed-a206-413d-ae9f-de09db6834dc"
      },
      "execution_count": 14,
      "outputs": [
        {
          "output_type": "execute_result",
          "data": {
            "text/plain": [
              "2.25"
            ]
          },
          "metadata": {},
          "execution_count": 14
        }
      ]
    },
    {
      "cell_type": "markdown",
      "source": [
        "To know the instance of an variable is important and when writing the function it is important to write the standardised function which can handle all type of errors."
      ],
      "metadata": {
        "id": "EXnZaS-yd5vo"
      }
    },
    {
      "cell_type": "code",
      "source": [
        "a = 5 \n",
        "isinstance(a,int)"
      ],
      "metadata": {
        "colab": {
          "base_uri": "https://localhost:8080/"
        },
        "id": "hBjTJPand4y3",
        "outputId": "64019fa4-9535-41fb-a237-9a2562302ba6"
      },
      "execution_count": 15,
      "outputs": [
        {
          "output_type": "execute_result",
          "data": {
            "text/plain": [
              "True"
            ]
          },
          "metadata": {},
          "execution_count": 15
        }
      ]
    },
    {
      "cell_type": "code",
      "source": [
        "isinstance(a,float)"
      ],
      "metadata": {
        "colab": {
          "base_uri": "https://localhost:8080/"
        },
        "id": "x8WRdi2kdrT0",
        "outputId": "08f5d0d8-498d-46b7-c0b6-ea0efae9a845"
      },
      "execution_count": 17,
      "outputs": [
        {
          "output_type": "execute_result",
          "data": {
            "text/plain": [
              "False"
            ]
          },
          "metadata": {},
          "execution_count": 17
        }
      ]
    },
    {
      "cell_type": "markdown",
      "source": [
        "4. Methods for the various objects "
      ],
      "metadata": {
        "id": "k9eqiqPkg4L6"
      }
    },
    {
      "cell_type": "code",
      "source": [
        "a= 'foo'\n"
      ],
      "metadata": {
        "id": "iBEqDOwddrWj"
      },
      "execution_count": 18,
      "outputs": []
    },
    {
      "cell_type": "code",
      "source": [
        "a.<press tab here>   # able to see all the methods that can be applied to the variable  "
      ],
      "metadata": {
        "id": "34SDDeHxdrZ4"
      },
      "execution_count": null,
      "outputs": []
    },
    {
      "cell_type": "code",
      "source": [
        "getattr(a,'split')"
      ],
      "metadata": {
        "colab": {
          "base_uri": "https://localhost:8080/"
        },
        "id": "Dasewq8Xdrdn",
        "outputId": "ce71bdb4-f3b6-4007-fa6f-8cf7891bf762"
      },
      "execution_count": 19,
      "outputs": [
        {
          "output_type": "execute_result",
          "data": {
            "text/plain": [
              "<function str.split>"
            ]
          },
          "metadata": {},
          "execution_count": 19
        }
      ]
    },
    {
      "cell_type": "code",
      "source": [
        "def isiterable(obj):\n",
        "  try:\n",
        "    iter(obj)\n",
        "    return(True)\n",
        "  except TypeError:\n",
        "    return(False)\n"
      ],
      "metadata": {
        "id": "avXFSqZYdrhU"
      },
      "execution_count": 21,
      "outputs": []
    },
    {
      "cell_type": "code",
      "source": [
        "isiterable('a string')"
      ],
      "metadata": {
        "colab": {
          "base_uri": "https://localhost:8080/"
        },
        "id": "40f_1rkTcQ38",
        "outputId": "8dcfeef4-f869-4ae6-987e-0689400cb973"
      },
      "execution_count": 22,
      "outputs": [
        {
          "output_type": "execute_result",
          "data": {
            "text/plain": [
              "True"
            ]
          },
          "metadata": {},
          "execution_count": 22
        }
      ]
    },
    {
      "cell_type": "code",
      "source": [
        "isiterable([1,2,3])"
      ],
      "metadata": {
        "colab": {
          "base_uri": "https://localhost:8080/"
        },
        "id": "KS8ZEWagiqA5",
        "outputId": "0e5925f9-b16a-4c93-cb94-5b62d9cab675"
      },
      "execution_count": 23,
      "outputs": [
        {
          "output_type": "execute_result",
          "data": {
            "text/plain": [
              "True"
            ]
          },
          "metadata": {},
          "execution_count": 23
        }
      ]
    },
    {
      "cell_type": "code",
      "source": [
        "isiterable(5)  # it is not iterable as there is only one value"
      ],
      "metadata": {
        "colab": {
          "base_uri": "https://localhost:8080/"
        },
        "id": "ePo6QtKfitWm",
        "outputId": "2bce5907-877e-4302-d036-8f88a942efb8"
      },
      "execution_count": 26,
      "outputs": [
        {
          "output_type": "execute_result",
          "data": {
            "text/plain": [
              "False"
            ]
          },
          "metadata": {},
          "execution_count": 26
        }
      ]
    },
    {
      "cell_type": "code",
      "source": [
        "isiterable('a')"
      ],
      "metadata": {
        "colab": {
          "base_uri": "https://localhost:8080/"
        },
        "id": "_qvrau1-itZe",
        "outputId": "50ef2245-d150-41b2-e7df-7b0b8ce01988"
      },
      "execution_count": 27,
      "outputs": [
        {
          "output_type": "execute_result",
          "data": {
            "text/plain": [
              "True"
            ]
          },
          "metadata": {},
          "execution_count": 27
        }
      ]
    },
    {
      "cell_type": "markdown",
      "source": [
        "This Functionality can be used where we can have multiple type of inputs like list,tuple and ndarray. Check if the object is the list if not then convertit to the list. "
      ],
      "metadata": {
        "id": "xbkN5pg_j5WV"
      }
    },
    {
      "cell_type": "code",
      "source": [
        "x = 2"
      ],
      "metadata": {
        "id": "YGnwzsK2k7_C"
      },
      "execution_count": 29,
      "outputs": []
    },
    {
      "cell_type": "code",
      "source": [
        "if not isinstance(x,list) and isiterable(x):\n",
        "  x = list(x)"
      ],
      "metadata": {
        "id": "-8i8ufpFkJE2"
      },
      "execution_count": 30,
      "outputs": []
    },
    {
      "cell_type": "code",
      "source": [
        "type(x)"
      ],
      "metadata": {
        "colab": {
          "base_uri": "https://localhost:8080/"
        },
        "id": "Y_S_ih6VjGIF",
        "outputId": "ac013dd9-4271-4c4c-b678-c9b749e0ae3b"
      },
      "execution_count": 32,
      "outputs": [
        {
          "output_type": "execute_result",
          "data": {
            "text/plain": [
              "int"
            ]
          },
          "metadata": {},
          "execution_count": 32
        }
      ]
    },
    {
      "cell_type": "markdown",
      "source": [
        "5. Imports "
      ],
      "metadata": {
        "id": "O1aIBQUImoEj"
      }
    },
    {
      "cell_type": "code",
      "source": [
        "pi = 3.14\n",
        "def f(x):\n",
        "  return x+2\n",
        "def g(a,b):\n",
        "  return a+b\n",
        "# save this file as module.py and further use it as a package and import it whereever required\n"
      ],
      "metadata": {
        "id": "Fe9GudOcjGLm"
      },
      "execution_count": 34,
      "outputs": []
    },
    {
      "cell_type": "code",
      "source": [
        "import some_module\n",
        "result = some_module.f(5)\n",
        "PI = some_module.pi"
      ],
      "metadata": {
        "id": "JP1vkMq8jG-1"
      },
      "execution_count": null,
      "outputs": []
    },
    {
      "cell_type": "code",
      "source": [
        "import some_module as sm\n",
        "from some_module import pi as PI ,g as gf\n",
        "r1 = sm.f(PI)\n",
        "r2 = gf(6, PI)"
      ],
      "metadata": {
        "id": "NISyPTufjHCU"
      },
      "execution_count": null,
      "outputs": []
    },
    {
      "cell_type": "markdown",
      "source": [
        "6. Mutable and ImMutable "
      ],
      "metadata": {
        "id": "eNtN5aser8vH"
      }
    },
    {
      "cell_type": "code",
      "source": [
        "# List is Mutable means you can add and change something \n",
        "a_list = ['foo', 2,[4,5]]\n",
        "a_list[2] = (3,4)\n",
        "print(a_list)"
      ],
      "metadata": {
        "colab": {
          "base_uri": "https://localhost:8080/"
        },
        "id": "jS1U98OPitcQ",
        "outputId": "6e9a2b01-47a2-4f77-b4c8-388159fe1a98"
      },
      "execution_count": 40,
      "outputs": [
        {
          "output_type": "stream",
          "name": "stdout",
          "text": [
            "['foo', 2, (3, 4)]\n"
          ]
        }
      ]
    },
    {
      "cell_type": "code",
      "source": [
        "# Tuple are immutable as ylou cann't change the value in this \n",
        "a_list = ('foo', 2,[4,5])\n",
        "a_list[2] = (3,4)\n",
        "print(a_list)"
      ],
      "metadata": {
        "colab": {
          "base_uri": "https://localhost:8080/",
          "height": 201
        },
        "id": "MC4MTqmOitf-",
        "outputId": "b2ff9c41-3fc7-4eee-caec-509f0521d824"
      },
      "execution_count": 41,
      "outputs": [
        {
          "output_type": "error",
          "ename": "TypeError",
          "evalue": "ignored",
          "traceback": [
            "\u001b[0;31m---------------------------------------------------------------------------\u001b[0m",
            "\u001b[0;31mTypeError\u001b[0m                                 Traceback (most recent call last)",
            "\u001b[0;32m<ipython-input-41-71fa8695c61a>\u001b[0m in \u001b[0;36m<module>\u001b[0;34m()\u001b[0m\n\u001b[1;32m      1\u001b[0m \u001b[0ma_list\u001b[0m \u001b[0;34m=\u001b[0m \u001b[0;34m(\u001b[0m\u001b[0;34m'foo'\u001b[0m\u001b[0;34m,\u001b[0m \u001b[0;36m2\u001b[0m\u001b[0;34m,\u001b[0m\u001b[0;34m[\u001b[0m\u001b[0;36m4\u001b[0m\u001b[0;34m,\u001b[0m\u001b[0;36m5\u001b[0m\u001b[0;34m]\u001b[0m\u001b[0;34m)\u001b[0m\u001b[0;34m\u001b[0m\u001b[0;34m\u001b[0m\u001b[0m\n\u001b[0;32m----> 2\u001b[0;31m \u001b[0ma_list\u001b[0m\u001b[0;34m[\u001b[0m\u001b[0;36m2\u001b[0m\u001b[0;34m]\u001b[0m \u001b[0;34m=\u001b[0m \u001b[0;34m(\u001b[0m\u001b[0;36m3\u001b[0m\u001b[0;34m,\u001b[0m\u001b[0;36m4\u001b[0m\u001b[0;34m)\u001b[0m\u001b[0;34m\u001b[0m\u001b[0;34m\u001b[0m\u001b[0m\n\u001b[0m\u001b[1;32m      3\u001b[0m \u001b[0mprint\u001b[0m\u001b[0;34m(\u001b[0m\u001b[0ma_list\u001b[0m\u001b[0;34m)\u001b[0m\u001b[0;34m\u001b[0m\u001b[0;34m\u001b[0m\u001b[0m\n",
            "\u001b[0;31mTypeError\u001b[0m: 'tuple' object does not support item assignment"
          ]
        }
      ]
    },
    {
      "cell_type": "markdown",
      "source": [
        "7. Date Type"
      ],
      "metadata": {
        "id": "7YHfQdAQtTPE"
      }
    },
    {
      "cell_type": "code",
      "source": [
        "from datetime import datetime,date,time\n",
        "dt = datetime(2011,10,29,20,30,21)\n",
        "dt.day\n"
      ],
      "metadata": {
        "colab": {
          "base_uri": "https://localhost:8080/"
        },
        "id": "8K2coxKcsxT-",
        "outputId": "f238ced0-dcc5-4f28-ae77-fc0a7482a9f3"
      },
      "execution_count": 45,
      "outputs": [
        {
          "output_type": "execute_result",
          "data": {
            "text/plain": [
              "29"
            ]
          },
          "metadata": {},
          "execution_count": 45
        }
      ]
    },
    {
      "cell_type": "code",
      "source": [
        "dt.minute"
      ],
      "metadata": {
        "colab": {
          "base_uri": "https://localhost:8080/"
        },
        "id": "SiLG2ZkKsxWn",
        "outputId": "5fdb053d-7880-45ab-9a19-a58ea18ff006"
      },
      "execution_count": 44,
      "outputs": [
        {
          "output_type": "execute_result",
          "data": {
            "text/plain": [
              "30"
            ]
          },
          "metadata": {},
          "execution_count": 44
        }
      ]
    },
    {
      "cell_type": "code",
      "source": [
        "dt.date()"
      ],
      "metadata": {
        "colab": {
          "base_uri": "https://localhost:8080/"
        },
        "id": "Br4f6e4RsxZD",
        "outputId": "e59f8385-77a7-4c98-9308-0ec8b487831c"
      },
      "execution_count": 47,
      "outputs": [
        {
          "output_type": "execute_result",
          "data": {
            "text/plain": [
              "datetime.date(2011, 10, 29)"
            ]
          },
          "metadata": {},
          "execution_count": 47
        }
      ]
    },
    {
      "cell_type": "code",
      "source": [
        "dt.strftime('%m/%d/%Y %H:%M')\n"
      ],
      "metadata": {
        "colab": {
          "base_uri": "https://localhost:8080/",
          "height": 35
        },
        "id": "9SePFdE5sxcn",
        "outputId": "075ab8ea-dd9f-43af-dc94-b580739487a9"
      },
      "execution_count": 48,
      "outputs": [
        {
          "output_type": "execute_result",
          "data": {
            "application/vnd.google.colaboratory.intrinsic+json": {
              "type": "string"
            },
            "text/plain": [
              "'10/29/2011 20:30'"
            ]
          },
          "metadata": {},
          "execution_count": 48
        }
      ]
    },
    {
      "cell_type": "code",
      "source": [
        "datetime.strptime('20211031', '%Y%m%d')\n"
      ],
      "metadata": {
        "colab": {
          "base_uri": "https://localhost:8080/"
        },
        "id": "FNiGuNumsxpo",
        "outputId": "7be59ff7-1f1a-44f2-a1cd-5c4af73f833b"
      },
      "execution_count": 50,
      "outputs": [
        {
          "output_type": "execute_result",
          "data": {
            "text/plain": [
              "datetime.datetime(2021, 10, 31, 0, 0)"
            ]
          },
          "metadata": {},
          "execution_count": 50
        }
      ]
    },
    {
      "cell_type": "code",
      "source": [
        "dt.replace(minute = 0, second = 0)"
      ],
      "metadata": {
        "colab": {
          "base_uri": "https://localhost:8080/"
        },
        "id": "snNxejFZsxvE",
        "outputId": "1c902f8c-79a1-4389-a673-73886582af1d"
      },
      "execution_count": 51,
      "outputs": [
        {
          "output_type": "execute_result",
          "data": {
            "text/plain": [
              "datetime.datetime(2011, 10, 29, 20, 0)"
            ]
          },
          "metadata": {},
          "execution_count": 51
        }
      ]
    },
    {
      "cell_type": "markdown",
      "source": [
        "8. IF ELIF and ELSE"
      ],
      "metadata": {
        "id": "0dB9Qebo1Dok"
      }
    },
    {
      "cell_type": "code",
      "source": [
        "x  = 7 \n",
        "if x < 0:\n",
        " print('Its negative')\n",
        "elif x == 0:\n",
        " print('Equal to zero')\n",
        "elif 0 < x < 5:\n",
        " print('Positive but smaller than 5')\n",
        "else:\n",
        " print('Positive and larger than or equal to 5')\n",
        "\n"
      ],
      "metadata": {
        "colab": {
          "base_uri": "https://localhost:8080/"
        },
        "id": "8nUn69mU0aa7",
        "outputId": "e4ff42a0-74ef-4fe0-e9b1-558eaa25ccf7"
      },
      "execution_count": 58,
      "outputs": [
        {
          "output_type": "stream",
          "name": "stdout",
          "text": [
            "Positive and larger than or equal to 5\n"
          ]
        }
      ]
    },
    {
      "cell_type": "markdown",
      "source": [
        "9. For Loop"
      ],
      "metadata": {
        "id": "9pUpVd1a1dHG"
      }
    },
    {
      "cell_type": "code",
      "source": [
        "sequence = [1, 2, 0, 4, 6, 5, 2, 1]\n",
        "total_until_5 = 0\n",
        "for value in sequence:\n",
        " if value == 5:\n",
        "  break\n",
        " total_until_5 += value"
      ],
      "metadata": {
        "id": "OGsH0X5u0aj5"
      },
      "execution_count": 60,
      "outputs": []
    },
    {
      "cell_type": "code",
      "source": [
        "for i in range(4):\n",
        " for j in range(4):\n",
        "  if j > i:\n",
        "    break\n",
        " print((i, j))\n"
      ],
      "metadata": {
        "colab": {
          "base_uri": "https://localhost:8080/"
        },
        "id": "Ywc2YCfC0ar3",
        "outputId": "5de225da-8a7c-47be-e795-1f38b14de419"
      },
      "execution_count": 61,
      "outputs": [
        {
          "output_type": "stream",
          "name": "stdout",
          "text": [
            "(0, 1)\n",
            "(1, 2)\n",
            "(2, 3)\n",
            "(3, 3)\n"
          ]
        }
      ]
    },
    {
      "cell_type": "markdown",
      "source": [
        "10. While Loop"
      ],
      "metadata": {
        "id": "iGRrwu5C144o"
      }
    },
    {
      "cell_type": "code",
      "source": [
        "x = 256\n",
        "total = 0\n",
        "while x > 0:\n",
        " if total > 500:\n",
        "  break\n",
        " total += x\n",
        " x = x // 2\n"
      ],
      "metadata": {
        "id": "IK-bVJqp10kp"
      },
      "execution_count": 63,
      "outputs": []
    },
    {
      "cell_type": "code",
      "source": [
        "if x < 0:\n",
        " print('negative!')\n",
        "elif x == 0:\n",
        " # TODO: put something smart here\n",
        " pass\n",
        "else:\n",
        " print('positive!')\n"
      ],
      "metadata": {
        "colab": {
          "base_uri": "https://localhost:8080/"
        },
        "id": "rMr-kAzv10n_",
        "outputId": "8b5049c8-f813-4329-92b2-9264fda87e59"
      },
      "execution_count": 64,
      "outputs": [
        {
          "output_type": "stream",
          "name": "stdout",
          "text": [
            "positive!\n"
          ]
        }
      ]
    },
    {
      "cell_type": "code",
      "source": [
        "sum = 0\n",
        "for i in range(100000):\n",
        " # % is the modulo operator\n",
        " if i % 3 == 0 or i % 5 == 0:\n",
        "  sum += i\n",
        "print(sum)"
      ],
      "metadata": {
        "colab": {
          "base_uri": "https://localhost:8080/"
        },
        "id": "oZJkFSk8100s",
        "outputId": "c3e2c0f2-38dc-4f7b-dc88-0f68b345224b"
      },
      "execution_count": 67,
      "outputs": [
        {
          "output_type": "stream",
          "name": "stdout",
          "text": [
            "2333316668\n"
          ]
        }
      ]
    },
    {
      "cell_type": "markdown",
      "source": [
        "11. Ternary Operators"
      ],
      "metadata": {
        "id": "roBZZraH2Yao"
      }
    },
    {
      "cell_type": "code",
      "source": [
        "'Non-negative' if x >= 0 else 'Negative'"
      ],
      "metadata": {
        "colab": {
          "base_uri": "https://localhost:8080/",
          "height": 35
        },
        "id": "9BrjLptE103J",
        "outputId": "e3f0daad-794f-4531-9929-f858da70f379"
      },
      "execution_count": 68,
      "outputs": [
        {
          "output_type": "execute_result",
          "data": {
            "application/vnd.google.colaboratory.intrinsic+json": {
              "type": "string"
            },
            "text/plain": [
              "'Non-negative'"
            ]
          },
          "metadata": {},
          "execution_count": 68
        }
      ]
    },
    {
      "cell_type": "markdown",
      "source": [
        "This Chapter gives the basic understanding of all the basic operations used during data analysis\n",
        "\n",
        "```\n",
        "# This is formatted as code\n",
        "```\n",
        "\n"
      ],
      "metadata": {
        "id": "jOHqBDYp5B7u"
      }
    }
  ]
}